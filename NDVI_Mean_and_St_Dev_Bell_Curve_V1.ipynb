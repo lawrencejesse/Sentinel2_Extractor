{
  "nbformat": 4,
  "nbformat_minor": 0,
  "metadata": {
    "colab": {
      "provenance": [],
      "authorship_tag": "ABX9TyPw+vR1fXU3aNa2ypbjbel3",
      "include_colab_link": true
    },
    "kernelspec": {
      "name": "python3",
      "display_name": "Python 3"
    },
    "language_info": {
      "name": "python"
    }
  },
  "cells": [
    {
      "cell_type": "markdown",
      "metadata": {
        "id": "view-in-github",
        "colab_type": "text"
      },
      "source": [
        "<a href=\"https://colab.research.google.com/github/lawrencejesse/Sentinel2_Extractor/blob/main/NDVI_Mean_and_St_Dev_Bell_Curve_V1.ipynb\" target=\"_parent\"><img src=\"https://colab.research.google.com/assets/colab-badge.svg\" alt=\"Open In Colab\"/></a>"
      ]
    },
    {
      "cell_type": "markdown",
      "metadata": {
        "id": "c10e7234"
      },
      "source": [
        "# README\n",
        "\n",
        "This notebook provides a workflow for analyzing an uploaded NDVI raster. It includes steps to:\n",
        "\n",
        "1.  Upload and load the raster data.\n",
        "2.  Handle NoData values.\n",
        "3.  Calculate and visualize the distribution of valid NDVI values using a histogram.\n",
        "4.  Calculate and display the mean and standard deviation, and add lines to the histogram representing these statistics.\n",
        "5.  Calculate the Median Absolute Deviation (MAD) and robust standard deviation.\n",
        "6.  Perform a test to determine the appropriateness of using standard z-scores.\n",
        "7.  Visualize the distribution of NDVI values with lines representing the median and robust standard deviations."
      ]
    },
    {
      "cell_type": "markdown",
      "metadata": {
        "id": "405d76a8"
      },
      "source": [
        "## Z-score vs. Robust Z-score Discussion\n",
        "\n",
        "Standard z-scores measure how many standard deviations a data point is from the mean. They are appropriate for data that is normally distributed or close to normal.\n",
        "\n",
        "Robust z-scores, on the other hand, measure how many robust standard deviations a data point is from the median. They are calculated using the Median Absolute Deviation (MAD) to estimate the spread of the data.\n",
        "\n",
        "Based on the analysis performed in this notebook (specifically the test in the previous section), if the distribution of your NDVI data is skewed or contains outliers, using robust z-scores is generally recommended. This is because the median and MAD are less sensitive to extreme values than the mean and standard deviation, providing a more accurate representation of the data's center and spread in such cases. The visualization showing the median and robust standard deviations provides a robust view of the data's typical range."
      ]
    },
    {
      "cell_type": "code",
      "execution_count": null,
      "metadata": {
        "id": "gPrADugar5LT"
      },
      "outputs": [],
      "source": []
    },
    {
      "cell_type": "markdown",
      "metadata": {
        "id": "b7fa8b40"
      },
      "source": [
        "# Task\n",
        "Create a histogram of an uploaded NDVI raster, calculate and display the mean, and add lines to the histogram representing the mean and +/- 1 and 2 standard deviations."
      ]
    },
    {
      "cell_type": "markdown",
      "metadata": {
        "id": "022c1f73"
      },
      "source": [
        "## Upload and load raster\n",
        "\n",
        "### Subtask:\n",
        "Provide instructions for the user to upload their NDVI raster and load it into a suitable data structure (e.g., using `rasterio`).\n"
      ]
    },
    {
      "cell_type": "markdown",
      "metadata": {
        "id": "a8de2034"
      },
      "source": [
        "**Reasoning**:\n",
        "I need to provide instructions to the user to upload their file and then provide code to open and read the raster data using rasterio.\n",
        "\n"
      ]
    },
    {
      "cell_type": "code",
      "metadata": {
        "id": "fe37e81a"
      },
      "source": [
        "from google.colab import files\n",
        "\n",
        "uploaded = files.upload()\n",
        "\n",
        "for fn in uploaded.keys():\n",
        "  print(f'User uploaded file \"{fn}\" with length {len(uploaded[fn])} bytes')"
      ],
      "execution_count": null,
      "outputs": []
    },
    {
      "cell_type": "code",
      "metadata": {
        "id": "6b01e095"
      },
      "source": [
        "%pip install rasterio\n",
        "\n",
        "# Please upload your NDVI raster file using the file upload functionality in the environment.\n",
        "# Once the file is uploaded, replace 'your_uploaded_file.tif' with the actual name of your uploaded file.\n",
        "\n",
        "import rasterio\n",
        "import numpy as np\n",
        "\n",
        "try:\n",
        "    # Replace 'your_uploaded_file.tif' with the actual name of your uploaded file\n",
        "    # Assuming the user uploaded a single file, we can get the filename from the 'uploaded' dictionary\n",
        "    if uploaded:\n",
        "      uploaded_filename = list(uploaded.keys())[0]\n",
        "      with rasterio.open(uploaded_filename) as src:\n",
        "          # Read the first band of the raster data\n",
        "          ndvi_data = src.read(1)\n",
        "\n",
        "      print(\"NDVI raster data loaded successfully into a NumPy array.\")\n",
        "      # You can optionally display some information about the loaded data\n",
        "      print(f\"Data shape: {ndvi_data.shape}\")\n",
        "      print(f\"Data type: {ndvi_data.dtype}\")\n",
        "      print(f\"Min value: {np.min(ndvi_data)}\")\n",
        "      print(f\"Max value: {np.max(ndvi_data)}\")\n",
        "\n",
        "      # Handle NoData values (-10000 and -9999)\n",
        "      nodata_values = [-10000, -9999]\n",
        "      ndvi_data_valid = ndvi_data[~np.isin(ndvi_data, nodata_values)]\n",
        "\n",
        "\n",
        "      print(f\"Number of valid data points: {ndvi_data_valid.size}\")\n",
        "\n",
        "    else:\n",
        "      print(\"No file was uploaded. Please upload your NDVI raster file.\")\n",
        "\n",
        "except rasterio.errors.RasterioIOError:\n",
        "    print(\"Error: Could not open or read the raster file.\")\n",
        "    print(\"Please ensure you have uploaded the file and that it is a valid raster file.\")\n",
        "except Exception as e:\n",
        "    print(f\"An unexpected error occurred: {e}\")"
      ],
      "execution_count": null,
      "outputs": []
    },
    {
      "cell_type": "code",
      "metadata": {
        "id": "7a1224ec"
      },
      "source": [
        "# Calculate mean and standard deviation, excluding NoData values\n",
        "mean_ndvi = np.mean(ndvi_data_valid)\n",
        "std_ndvi = np.std(ndvi_data_valid)\n",
        "\n",
        "print(f\"Mean NDVI (excluding NoData): {mean_ndvi}\")\n",
        "print(f\"Standard Deviation of NDVI (excluding NoData): {std_ndvi}\")"
      ],
      "execution_count": null,
      "outputs": []
    },
    {
      "cell_type": "markdown",
      "metadata": {
        "id": "a919af02"
      },
      "source": [
        "**Reasoning**:\n",
        "The previous command failed because the `rasterio` library is not installed. I need to install `rasterio` and then re-run the code to open and read the raster file.\n",
        "\n"
      ]
    },
    {
      "cell_type": "code",
      "metadata": {
        "id": "DGoGCKYEsSzl"
      },
      "source": [
        "%pip install rasterio\n",
        "\n",
        "import rasterio\n",
        "import numpy as np\n",
        "\n",
        "try:\n",
        "    # Replace 'your_uploaded_file.tif' with the actual name of your uploaded file\n",
        "    with rasterio.open('your_uploaded_file.tif') as src:\n",
        "        # Read the first band of the raster data\n",
        "        ndvi_data = src.read(1)\n",
        "\n",
        "    print(\"NDVI raster data loaded successfully into a NumPy array.\")\n",
        "    # You can optionally display some information about the loaded data\n",
        "    print(f\"Data shape: {ndvi_data.shape}\")\n",
        "    print(f\"Data type: {ndvi_data.dtype}\")\n",
        "    print(f\"Min value: {np.min(ndvi_data)}\")\n",
        "    print(f\"Max value: {np.max(ndvi_data)}\")\n",
        "\n",
        "except rasterio.errors.RasterioIOError:\n",
        "    print(\"Error: Could not open or read the raster file.\")\n",
        "    print(\"Please ensure you have uploaded the file and replaced 'your_uploaded_file.tif' with the correct filename.\")\n",
        "except Exception as e:\n",
        "    print(f\"An unexpected error occurred: {e}\")"
      ],
      "execution_count": null,
      "outputs": []
    },
    {
      "cell_type": "code",
      "metadata": {
        "id": "af934617"
      },
      "source": [
        "import matplotlib.pyplot as plt\n",
        "import numpy as np\n",
        "import matplotlib.colors as mcolors\n",
        "\n",
        "# Assuming ndvi_data_valid is already created from the previous step\n",
        "# If ndvi_data_valid is not available, the previous steps need to be executed first.\n",
        "\n",
        "if 'ndvi_data_valid' in locals() and ndvi_data_valid is not None:\n",
        "    plt.figure(figsize=(10, 6))\n",
        "\n",
        "    # Create a colormap from red to yellow to green\n",
        "    cmap = mcolors.LinearSegmentedColormap.from_list(\"ryg\", [\"red\", \"yellow\", \"green\"])\n",
        "\n",
        "    # Plot the histogram\n",
        "    n, bins, patches = plt.hist(ndvi_data_valid.flatten(), bins=50, edgecolor='black')\n",
        "\n",
        "    # Apply the color gradient to the bars\n",
        "    # Adjusting the normalization for more contrast\n",
        "    bin_centers = 0.5 * (bins[:-1] + bins[1:])\n",
        "    # Scale the bin centers to the range [0, 1] for the colormap, with a focus on increasing contrast\n",
        "    # You can experiment with the scaling factor (e.g., multiplying by a value > 1 or using a power)\n",
        "    # Here, we'll use a simple scaling that stretches the extremes more.\n",
        "    normalized_bin_centers = (bin_centers - np.min(bin_centers)) / (np.max(bin_centers) - np.min(bin_centers))\n",
        "    # Applying a power transformation to increase contrast (e.g., power > 1 for darker ends, < 1 for lighter ends)\n",
        "    # Let's try a power of 2 to push values towards the ends\n",
        "    contrasted_colors = cmap(normalized_bin_centers**1.5)\n",
        "\n",
        "\n",
        "    for c, p in zip(contrasted_colors, patches):\n",
        "        plt.setp(p, 'facecolor', c)\n",
        "\n",
        "\n",
        "    plt.title('Distribution of NDVI Values (excluding NoData) with R-Y-G Gradient')\n",
        "    plt.xlabel('NDVI Value')\n",
        "    plt.ylabel('Frequency')\n",
        "    plt.grid(axis='y', alpha=0.75)\n",
        "    plt.show()\n",
        "else:\n",
        "    print(\"Valid NDVI data is not available. Please ensure the previous steps to load and handle NoData were successful.\")"
      ],
      "execution_count": null,
      "outputs": []
    },
    {
      "cell_type": "markdown",
      "metadata": {
        "id": "8635e23b"
      },
      "source": [
        "**Reasoning**:\n",
        "Generate a histogram of the raster data using matplotlib, add a title and axis labels, and display the plot.\n",
        "\n"
      ]
    },
    {
      "cell_type": "markdown",
      "metadata": {
        "id": "76f776e0"
      },
      "source": [
        "## Add statistical lines\n",
        "\n",
        "### Subtask:\n",
        "Add vertical lines to the histogram representing the mean and +/- 1 and 2 standard deviations.\n"
      ]
    },
    {
      "cell_type": "markdown",
      "metadata": {
        "id": "c1949be3"
      },
      "source": [
        "## Add statistical lines\n",
        "\n",
        "### Subtask:\n",
        "Add vertical lines to the histogram representing the mean and +/- 1 and 2 standard deviations.\n"
      ]
    },
    {
      "cell_type": "code",
      "metadata": {
        "id": "becfd670"
      },
      "source": [
        "import matplotlib.pyplot as plt\n",
        "import numpy as np\n",
        "import rasterio\n",
        "\n",
        "try:\n",
        "    # Important: Replace 'your_uploaded_file.tif' with the actual name of your uploaded NDVI raster file.\n",
        "    if uploaded:\n",
        "      uploaded_filename = list(uploaded.keys())[0]\n",
        "      with rasterio.open(uploaded_filename) as src:\n",
        "          # Read the first band of the raster data\n",
        "          ndvi_data = src.read(1)\n",
        "\n",
        "      print(\"NDVI raster data loaded successfully into a NumPy array.\")\n",
        "\n",
        "      # Handle NoData values (-10000 and -9999)\n",
        "      nodata_values = [-10000, -9999]\n",
        "      ndvi_data_valid = ndvi_data[~np.isin(ndvi_data, nodata_values)]\n",
        "\n",
        "\n",
        "      print(f\"Number of valid data points: {ndvi_data_valid.size}\")\n",
        "\n",
        "      # Calculate mean and standard deviation\n",
        "      mean_ndvi = np.mean(ndvi_data_valid)\n",
        "      std_ndvi = np.std(ndvi_data_valid)\n",
        "\n",
        "      print(f\"Mean NDVI (excluding NoData): {mean_ndvi}\")\n",
        "      print(f\"Standard Deviation of NDVI (excluding NoData): {std_ndvi}\")\n",
        "\n",
        "      plt.figure(figsize=(12, 7)) # Increased figure size\n",
        "      plt.hist(ndvi_data_valid.flatten(), bins=100, color='#607c8e', edgecolor='#333333', alpha=0.7) # Changed color, added edge color and transparency\n",
        "      plt.title('Distribution of NDVI Values with Mean and Standard Deviations (excluding NoData)', fontsize=16) # Increased title font size\n",
        "      plt.xlabel('NDVI Value', fontsize=12) # Increased xlabel font size\n",
        "      plt.ylabel('Frequency', fontsize=12) # Increased ylabel font size\n",
        "      plt.grid(axis='y', alpha=0.5) # Adjusted grid transparency\n",
        "\n",
        "      # Add vertical lines for mean and standard deviations with improved styling\n",
        "      plt.axvline(mean_ndvi, color='crimson', linestyle='solid', linewidth=2, label=f'Mean ({mean_ndvi:.2f})')\n",
        "      plt.axvline(mean_ndvi + std_ndvi, color='forestgreen', linestyle='dashed', linewidth=2, label=f'+1 Std Dev ({mean_ndvi + std_ndvi:.2f})')\n",
        "      plt.axvline(mean_ndvi - std_ndvi, color='darkorange', linestyle='dashed', linewidth=2, label=f'-1 Std Dev ({mean_ndvi - std_ndvi:.2f})')\n",
        "      plt.axvline(mean_ndvi + 2 * std_ndvi, color='rebeccapurple', linestyle='dotted', linewidth=2, label=f'+2 Std Dev ({mean_ndvi + 2 * std_ndvi:.2f})')\n",
        "      plt.axvline(mean_ndvi - 2 * std_ndvi, color='saddlebrown', linestyle='dotted', linewidth=2, label=f'-2 Std Dev ({mean_ndvi - 2 * std_ndvi:.2f})')\n",
        "\n",
        "      plt.legend(fontsize=10) # Added legend with adjusted font size\n",
        "      plt.tight_layout() # Adjust layout to prevent labels overlapping\n",
        "      plt.show()\n",
        "\n",
        "    else:\n",
        "      print(\"No file was uploaded. Please upload your NDVI raster file.\")\n",
        "\n",
        "except rasterio.errors.RasterioIOError:\n",
        "    print(\"Error: Could not open or read the raster file.\")\n",
        "    print(\"Please ensure you have uploaded the file and replaced 'your_uploaded_file.tif' with the correct filename in the code above.\")\n",
        "except Exception as e:\n",
        "    print(f\"An unexpected error occurred: {e}\")"
      ],
      "execution_count": null,
      "outputs": []
    },
    {
      "cell_type": "markdown",
      "metadata": {
        "id": "7c58b202"
      },
      "source": [
        "## Visualize histogram\n",
        "\n",
        "### Subtask:\n",
        "Visualize the histogram with the added lines.\n"
      ]
    },
    {
      "cell_type": "code",
      "metadata": {
        "id": "73196c35"
      },
      "source": [
        "# Perform the test for using standard z-scores\n",
        "\n",
        "# Check the first condition: |μ − m| ≤ 0.2 σ\n",
        "mean_median_diff = abs(mean_ndvi - median_ndvi)\n",
        "std_dev_threshold = 0.2 * std_ndvi\n",
        "\n",
        "condition1 = mean_median_diff <= std_dev_threshold\n",
        "\n",
        "# Check the second condition: 0.8 ≤ (MADs / σ) ≤ 1.2\n",
        "mad_s_over_std = robust_std_ndvi / std_ndvi\n",
        "\n",
        "condition2 = (mad_s_over_std >= 0.8) and (mad_s_over_std <= 1.2)\n",
        "\n",
        "# Determine if standard z-scores are appropriate\n",
        "if condition1 and condition2:\n",
        "    print(\"Based on the rule of thumb, the distribution is close enough; standard z-scores are appropriate.\")\n",
        "else:\n",
        "    print(\"Based on the rule of thumb, the distribution is not close enough; use robust z-scores for this year.\")\n",
        "\n",
        "# Optionally, print the values for reference\n",
        "print(f\"\\n|μ − m|: {mean_median_diff:.4f}\")\n",
        "print(f\"0.2 σ: {std_dev_threshold:.4f}\")\n",
        "print(f\"MADs / σ: {mad_s_over_std:.4f}\")"
      ],
      "execution_count": null,
      "outputs": []
    },
    {
      "cell_type": "code",
      "metadata": {
        "id": "2ac70c92"
      },
      "source": [
        "# Calculate the Median Absolute Deviation (MAD)\n",
        "median_ndvi = np.median(ndvi_data_valid)\n",
        "mad_ndvi = np.median(np.abs(ndvi_data_valid - median_ndvi))\n",
        "\n",
        "# Calculate the robust standard deviation\n",
        "robust_std_ndvi = 1.4826 * mad_ndvi\n",
        "\n",
        "print(f\"Median NDVI (excluding NoData): {median_ndvi}\")\n",
        "print(f\"Median Absolute Deviation (MAD) of NDVI (excluding NoData): {mad_ndvi}\")\n",
        "print(f\"Robust Standard Deviation of NDVI (excluding NoData): {robust_std_ndvi}\")"
      ],
      "execution_count": null,
      "outputs": []
    },
    {
      "cell_type": "code",
      "metadata": {
        "id": "a8a9f8f7"
      },
      "source": [
        "import matplotlib.pyplot as plt\n",
        "import numpy as np\n",
        "\n",
        "# Assuming ndvi_data_valid, median_ndvi, and robust_std_ndvi are available from previous steps\n",
        "\n",
        "if 'ndvi_data_valid' in locals() and ndvi_data_valid is not None and \\\n",
        "   'median_ndvi' in locals() and median_ndvi is not None and \\\n",
        "   'robust_std_ndvi' in locals() and robust_std_ndvi is not None:\n",
        "\n",
        "    plt.figure(figsize=(12, 7)) # Increased figure size\n",
        "    plt.hist(ndvi_data_valid.flatten(), bins=100, color='#607c8e', edgecolor='#333333', alpha=0.7) # Changed color, added edge color and transparency\n",
        "    plt.title('Distribution of NDVI Values with Median and Robust Standard Deviations (excluding NoData)', fontsize=16) # Increased title font size\n",
        "    plt.xlabel('NDVI Value', fontsize=12) # Increased xlabel font size\n",
        "    plt.ylabel('Frequency', fontsize=12) # Increased ylabel font size\n",
        "    plt.grid(axis='y', alpha=0.5) # Adjusted grid transparency\n",
        "\n",
        "    # Add vertical lines for median and robust standard deviations with improved styling\n",
        "    plt.axvline(median_ndvi, color='purple', linestyle='solid', linewidth=2, label=f'Median ({median_ndvi:.2f})')\n",
        "    plt.axvline(median_ndvi + robust_std_ndvi, color='darkgreen', linestyle='dashed', linewidth=2, label=f'+1 Robust Std Dev ({median_ndvi + robust_std_ndvi:.2f})')\n",
        "    plt.axvline(median_ndvi - robust_std_ndvi, color='darkorange', linestyle='dashed', linewidth=2, label=f'-1 Robust Std Dev ({median_ndvi - robust_std_ndvi:.2f})')\n",
        "    plt.axvline(median_ndvi + 2 * robust_std_ndvi, color='indigo', linestyle='dotted', linewidth=2, label=f'+2 Robust Std Dev ({median_ndvi + 2 * robust_std_ndvi:.2f})')\n",
        "    plt.axvline(median_ndvi - 2 * robust_std_ndvi, color='sienna', linestyle='dotted', linewidth=2, label=f'-2 Robust Std Dev ({median_ndvi - 2 * robust_std_ndvi:.2f})')\n",
        "\n",
        "\n",
        "    plt.legend(fontsize=10) # Added legend with adjusted font size\n",
        "    plt.tight_layout() # Adjust layout to prevent labels overlapping\n",
        "    plt.show()\n",
        "\n",
        "else:\n",
        "    print(\"Required data (ndvi_data_valid, median_ndvi, robust_std_ndvi) is not available. Please ensure previous steps were successful.\")"
      ],
      "execution_count": null,
      "outputs": []
    }
  ]
}
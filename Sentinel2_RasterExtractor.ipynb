{
  "cells": [
    {
      "cell_type": "markdown",
      "metadata": {},
      "source": [
        "# Sentinel-2 NDVI Extractor (Colab)\n",
        "\n",
        "Run order:\n",
        "1. Setup and authentication\n",
        "2. AOI upload and map preview\n",
        "3. Processing functions\n",
        "4. Date selection and export UI (NDVI and optional RGB)\n",
        "5. (Optional) Zip and download from /content/exports\n",
        "\n",
        "Tip: In Colab, run each section top-to-bottom.\n",
        "\n"
      ]
    },
    {
      "cell_type": "code",
      "execution_count": null,
      "metadata": {},
      "outputs": [],
      "source": [
        "# --- 1) Setup and authentication ---\n",
        "%pip install -U -q earthengine-api geemap ipywidgets\n",
        "\n",
        "import ee\n",
        "\n",
        "try:\n",
        "    ee.Initialize()\n",
        "    print('Google Earth Engine has been successfully initialized.')\n",
        "except Exception as e:\n",
        "    print(f'Failed to initialize Google Earth Engine: {e}')\n",
        "    print('If running in Colab, run ee.Authenticate() below, then re-run initialization.')\n",
        "\n",
        "# Uncomment and run in Colab if initialization failed\n",
        "# ee.Authenticate()\n",
        "# ee.Initialize()\n",
        "\n"
      ]
    },
    {
      "cell_type": "code",
      "execution_count": null,
      "metadata": {},
      "outputs": [],
      "source": [
        "# --- 2) AOI upload and map preview ---\n",
        "import ipywidgets as widgets\n",
        "import geemap\n",
        "import os\n",
        "\n",
        "# Globals for AOI and name\n",
        "aoi = None\n",
        "aoi_name_global = None\n",
        "\n",
        "upload_widget = widgets.FileUpload(accept='.kml,.geojson,.zip', multiple=False)\n",
        "\n",
        "\n",
        "def handle_upload(change):\n",
        "    global aoi, aoi_name_global\n",
        "\n",
        "    if not upload_widget.value:\n",
        "        print('No file uploaded')\n",
        "        return\n",
        "\n",
        "    uploaded_file = upload_widget.value[0]\n",
        "    file_name = uploaded_file['name']\n",
        "    file_content = uploaded_file['content']\n",
        "\n",
        "    aoi = None\n",
        "    aoi_name_global = os.path.splitext(file_name)[0].replace(' ', '_').replace('-', '_')\n",
        "\n",
        "    try:\n",
        "        if file_name.endswith('.kml'):\n",
        "            with open(file_name, 'wb') as f:\n",
        "                f.write(file_content)\n",
        "            aoi = geemap.kml_to_ee(file_name)\n",
        "            os.remove(file_name)\n",
        "        elif file_name.endswith('.geojson'):\n",
        "            with open(file_name, 'wb') as f:\n",
        "                f.write(file_content)\n",
        "            aoi = geemap.geojson_to_ee(file_name)\n",
        "            os.remove(file_name)\n",
        "        elif file_name.endswith('.zip'):\n",
        "            with open(file_name, 'wb') as f:\n",
        "                f.write(file_content)\n",
        "            aoi = geemap.shp_to_ee(file_name)\n",
        "            os.remove(file_name)\n",
        "        else:\n",
        "            print('Unsupported file type.')\n",
        "            return\n",
        "\n",
        "        if aoi:\n",
        "            aoi = aoi.geometry().transform('EPSG:4326', 1)\n",
        "            print(f'AOI uploaded: {aoi_name_global}')\n",
        "        else:\n",
        "            print('Failed to process uploaded file.')\n",
        "    except Exception as e:\n",
        "        print(f'Error processing file: {e}')\n",
        "\n",
        "\n",
        "def show_map():\n",
        "    from IPython.display import display\n",
        "    import ee\n",
        "\n",
        "    if aoi is None:\n",
        "        print('Upload an AOI first.')\n",
        "        return\n",
        "\n",
        "    m = geemap.Map(basemap='SATELLITE')\n",
        "    m.addLayer(ee.FeatureCollection(aoi), {}, 'AOI')\n",
        "    m.centerObject(aoi)\n",
        "    display(m)\n",
        "\n",
        "\n",
        "display(upload_widget)\n",
        "upload_widget.observe(handle_upload, names='value')\n",
        "\n"
      ]
    },
    {
      "cell_type": "code",
      "execution_count": null,
      "metadata": {},
      "outputs": [],
      "source": [
        "# --- 3) Processing functions ---\n",
        "import ee\n",
        "\n",
        "def process_sentinel2(aoi, start_date, end_date):\n",
        "    \"\"\"Build Sentinel-2 collection, cloud-mask (SCL), add NDVI band.\"\"\"\n",
        "    print(f\"Processing Sentinel-2 for {start_date} to {end_date}\")\n",
        "\n",
        "    coll = (\n",
        "        ee.ImageCollection('COPERNICUS/S2_SR_HARMONIZED')\n",
        "        .filterDate(start_date, end_date)\n",
        "        .filterBounds(aoi)\n",
        "    )\n",
        "    print('Initial size:', coll.size().getInfo())\n",
        "\n",
        "    def mask_clouds(img):\n",
        "        scl = img.select('SCL')\n",
        "        ok = scl.neq(3).And(scl.neq(8)).And(scl.neq(9)).And(scl.neq(10)).And(scl.neq(11))\n",
        "        return img.updateMask(ok)\n",
        "\n",
        "    def add_ndvi(img):\n",
        "        scaled = img.select(['B4', 'B8']).multiply(0.0001)\n",
        "        ndvi = scaled.normalizedDifference(['B8', 'B4']).rename('NDVI')\n",
        "        return img.addBands(ndvi)\n",
        "\n",
        "    out = coll.map(mask_clouds).map(add_ndvi)\n",
        "    print('Processed size:', out.size().getInfo())\n",
        "    return out\n",
        "\n"
      ]
    },
    {
      "cell_type": "code",
      "execution_count": null,
      "metadata": {},
      "outputs": [],
      "source": [
        "# --- 4) Date selection and export UI ---\n",
        "# Reuse the improved UI cell we already fixed\n",
        "from datetime import datetime\n",
        "import ipywidgets as widgets\n",
        "from IPython.display import display, clear_output\n",
        "import ee, ee.batch\n",
        "\n",
        "try:\n",
        "    from google.colab import output as _colab_output\n",
        "    _colab_output.enable_custom_widget_manager()\n",
        "except Exception:\n",
        "    pass\n",
        "\n",
        "available_dates_dict = {}\n",
        "processed_collection_global = None\n",
        "\n",
        "\n",
        "def get_available_dates(_):\n",
        "    global available_dates_dict, processed_collection_global\n",
        "    if aoi is None:\n",
        "        print('Upload/define an AOI first.')\n",
        "        return\n",
        "\n",
        "    start_date_str = start_date_widget.value.strftime('%Y-%m-%d')\n",
        "    end_date_str = end_date_widget.value.strftime('%Y-%m-%d')\n",
        "    processed_collection_global = process_sentinel2(aoi, start_date_str, end_date_str)\n",
        "\n",
        "    try:\n",
        "        info_list = processed_collection_global.toList(processed_collection_global.size()).getInfo()\n",
        "        tmp = {}\n",
        "        for img_info in info_list:\n",
        "            ts_ms = img_info['properties']['system:time_start']\n",
        "            date_str = datetime.utcfromtimestamp(ts_ms / 1000).strftime('%Y-%m-%d')\n",
        "            tmp[date_str] = ts_ms\n",
        "        available_dates_dict = {d: tmp[d] for d in sorted(tmp.keys())}\n",
        "    except Exception as e:\n",
        "        print('Error reading collection dates:', e)\n",
        "        available_dates_dict = {}\n",
        "\n",
        "    if available_dates_dict:\n",
        "        display_date_selection_widgets()\n",
        "    else:\n",
        "        print('No cloud-free images found.')\n",
        "\n",
        "\n",
        "def display_date_selection_widgets():\n",
        "    global date_selector, export_button, output_folder_widget, export_rgb_toggle\n",
        "    clear_output(wait=True)\n",
        "\n",
        "    date_selector = widgets.SelectMultiple(\n",
        "        options=list(available_dates_dict.keys()),\n",
        "        description='Select Dates:',\n",
        "        rows=min(10, max(1, len(available_dates_dict))),\n",
        "        layout=widgets.Layout(width='100%')\n",
        "    )\n",
        "    output_folder_widget = widgets.Text(value='earth_engine_exports', description='Output Folder:', layout=widgets.Layout(width='100%'))\n",
        "    export_rgb_toggle = widgets.Checkbox(value=False, description='Also export RGB (B4,B3,B2) for each selected date', indent=False)\n",
        "    export_button = widgets.Button(description='Start Export', button_style='success', tooltip='Export NDVI (and RGB if toggled)', icon='download')\n",
        "    export_button.on_click(on_export_button_clicked)\n",
        "\n",
        "    export_panel = widgets.VBox([\n",
        "        widgets.HTML('<h3>Step 2: Select dates and export options</h3>'),\n",
        "        date_selector,\n",
        "        widgets.HTML('<br>'),\n",
        "        output_folder_widget,\n",
        "        widgets.HTML('<br>'),\n",
        "        export_rgb_toggle,\n",
        "        widgets.HTML('<br>'),\n",
        "        export_button\n",
        "    ])\n",
        "    display(export_panel)\n",
        "\n",
        "\n",
        "def on_export_button_clicked(_):\n",
        "    if aoi is None or processed_collection_global is None:\n",
        "        print('Please upload AOI and get dates first.')\n",
        "        return\n",
        "\n",
        "    selected_dates = list(date_selector.value)\n",
        "    export_mean = mean_ndvi_toggle.value\n",
        "    export_rgb = export_rgb_toggle.value\n",
        "    output_folder = output_folder_widget.value\n",
        "\n",
        "    aoi_name = aoi_name_global if aoi_name_global else 'AOI'\n",
        "\n",
        "    if not selected_dates and not export_mean:\n",
        "        print(\"Please select at least one date or enable 'Export Mean NDVI Only'.\")\n",
        "        return\n",
        "\n",
        "    if export_mean:\n",
        "        mean_img = processed_collection_global.select('NDVI').mean().clip(aoi)\n",
        "        fname = f\"{aoi_name}_NDVI_Mean_{start_date_widget.value.strftime('%Y-%m-%d')}_{end_date_widget.value.strftime('%Y-%m-%d')}.tif\"\n",
        "        task = ee.batch.Export.image.toDrive(image=mean_img, description=fname, folder=output_folder, fileNamePrefix=fname.replace('.tif', ''), scale=10, region=aoi, fileFormat='GeoTIFF', crs='EPSG:4326')\n",
        "        task.start()\n",
        "        print('Mean NDVI export started:', task.id)\n",
        "        return\n",
        "\n",
        "    print('Exporting selected per-date images...')\n",
        "    selected_ts = [available_dates_dict[d] for d in selected_dates if d in available_dates_dict]\n",
        "    sel_coll = processed_collection_global.filter(ee.Filter.inList('system:time_start', selected_ts))\n",
        "    size = sel_coll.size().getInfo()\n",
        "    if size == 0:\n",
        "        print('No images matched the selected dates.')\n",
        "        return\n",
        "\n",
        "    imgs = sel_coll.toList(size)\n",
        "    for i in range(size):\n",
        "        img = ee.Image(imgs.get(i)).clip(aoi)\n",
        "        date_str = ee.Image(imgs.get(i)).date().format('YYYY-MM-dd').getInfo()\n",
        "\n",
        "        # NDVI export\n",
        "        ndvi = img.select('NDVI')\n",
        "        ndvi_name = f'{aoi_name}_NDVI_{date_str}.tif'\n",
        "        t_ndvi = ee.batch.Export.image.toDrive(image=ndvi, description=ndvi_name, folder=output_folder, fileNamePrefix=ndvi_name.replace('.tif', ''), scale=10, region=aoi, fileFormat='GeoTIFF', crs='EPSG:4326')\n",
        "        t_ndvi.start()\n",
        "        print('NDVI export started:', ndvi_name, '-> task', t_ndvi.id)\n",
        "\n",
        "        # Optional RGB export\n",
        "        if export_rgb:\n",
        "            rgb = img.select(['B4', 'B3', 'B2']).multiply(0.0001).multiply(255).uint8()\n",
        "            rgb_name = f'{aoi_name}_RGB_{date_str}.tif'\n",
        "            t_rgb = ee.batch.Export.image.toDrive(image=rgb, description=rgb_name, folder=output_folder, fileNamePrefix=rgb_name.replace('.tif', ''), scale=10, region=aoi, fileFormat='GeoTIFF', crs='EPSG:4326')\n",
        "            t_rgb.start()\n",
        "            print('RGB export started:', rgb_name, '-> task', t_rgb.id)\n",
        "\n",
        "\n",
        "start_date_widget = widgets.DatePicker(description='Start Date:', value=datetime(2023, 1, 1))\n",
        "end_date_widget = widgets.DatePicker(description='End Date:', value=datetime(2023, 12, 31))\n",
        "mean_ndvi_toggle = widgets.Checkbox(value=False, description='Export Mean NDVI Only', indent=False)\n",
        "get_dates_button = widgets.Button(description='Get Available Dates', button_style='info', tooltip='Find available cloud-free dates', icon='search')\n",
        "get_dates_button.on_click(get_available_dates)\n",
        "\n",
        "initial_panel = widgets.VBox([\n",
        "    widgets.HTML('<h3>Step 1: Choose date range and export options</h3>'),\n",
        "    widgets.HBox([start_date_widget, end_date_widget]),\n",
        "    mean_ndvi_toggle,\n",
        "    get_dates_button\n",
        "])\n",
        "\n",
        "display(initial_panel)\n",
        "\n"
      ]
    },
    {
      "cell_type": "markdown",
      "metadata": {},
      "source": [
        "---\n",
        "\n",
        "## Legacy content below\n",
        "You can ignore the cells below; they contain earlier versions of functions kept for reference. Use the ordered section above for a clean run.\n",
        "\n"
      ]
    },
    {
      "cell_type": "markdown",
      "metadata": {
        "colab_type": "text",
        "id": "view-in-github"
      },
      "source": [
        "<a href=\"https://colab.research.google.com/github/lawrencejesse/Sentinel2_Extractor/blob/main/Sentinel2_RasterExtractor.ipynb\" target=\"_parent\"><img src=\"https://colab.research.google.com/assets/colab-badge.svg\" alt=\"Open In Colab\"/></a>"
      ]
    },
    {
      "cell_type": "code",
      "execution_count": null,
      "metadata": {
        "id": "02-n2ESK-jdH"
      },
      "outputs": [],
      "source": []
    },
    {
      "cell_type": "markdown",
      "metadata": {
        "id": "43fdf75a"
      },
      "source": [
        "## Packaging and Download\n",
        "\n",
        "### Subtask:\n",
        "Zip the exported GeoTIFFs in the `/content/exports` directory and provide a download link for the zip file."
      ]
    },
    {
      "cell_type": "markdown",
      "metadata": {
        "id": "08ae7542"
      },
      "source": [
        "**Reasoning**:\n",
        "Use the `zip` command to create a zip archive of the exported files and then provide a link to download the created zip file."
      ]
    },
    {
      "cell_type": "code",
      "execution_count": null,
      "metadata": {
        "id": "80674d8f"
      },
      "outputs": [],
      "source": [
        "import os\n",
        "from google.colab import files\n",
        "\n",
        "def zip_and_download_exports():\n",
        "    export_dir = '/content/exports'\n",
        "    zip_filename = 'ndvi_exports.zip'\n",
        "    zip_filepath = f'/content/{zip_filename}'\n",
        "\n",
        "    if os.path.exists(export_dir) and os.listdir(export_dir):\n",
        "        # Create a zip archive of the exported files\n",
        "        !zip -r $zip_filepath $export_dir\n",
        "\n",
        "        # Provide a download link for the zip file\n",
        "        print(f\"Your files are ready for download. Click the link below to download {zip_filename}\")\n",
        "        files.download(zip_filepath)\n",
        "    else:\n",
        "        print(\"No files found in the export directory to zip.\")\n",
        "\n",
        "# You can call this function after the export tasks are complete and the files are in the /content/exports directory.\n",
        "# Note: Earth Engine exports to Drive are asynchronous. You'll need to wait for them to complete before zipping.\n",
        "# A more robust solution would involve monitoring the tasks, but for simplicity, you can manually run this cell after exports are finished."
      ]
    },
    {
      "cell_type": "markdown",
      "metadata": {
        "id": "08289e17"
      },
      "source": [
        "## Data Export\n",
        "\n",
        "### Subtask:\n",
        "Implement the export logic, including handling individual image export and optional mean NDVI export."
      ]
    },
    {
      "cell_type": "markdown",
      "metadata": {
        "id": "821d7867"
      },
      "source": [
        "**Reasoning**:\n",
        "Define a function `export_ndvi` that takes the processed collection, AOI, start date, end date, and the mean NDVI toggle status as input. Inside the function, check if the mean NDVI toggle is on. If so, compute the mean NDVI for the collection and export it. Otherwise, iterate through the collection and export each image individually, clipping to the AOI and using descriptive filenames."
      ]
    },
    {
      "cell_type": "code",
      "execution_count": null,
      "metadata": {
        "id": "9647dbca"
      },
      "outputs": [],
      "source": [
        "import os\n",
        "import ee.batch\n",
        "\n",
        "def export_ndvi(processed_collection, aoi, start_date, end_date, export_mean=False):\n",
        "    \"\"\"\n",
        "    Exports the processed NDVI images as GeoTIFFs.\n",
        "\n",
        "    Args:\n",
        "        processed_collection (ee.ImageCollection): The processed Sentinel-2 image collection with NDVI.\n",
        "        aoi (ee.FeatureCollection or ee.Geometry): The area of interest.\n",
        "        start_date (str): The start date in 'YYYY-MM-DD' format.\n",
        "        end_date (str): The end date in 'YYYY-MM-DD' format.\n",
        "        export_mean (bool): Whether to export the mean NDVI for the date range.\n",
        "    \"\"\"\n",
        "    export_dir = '/content/exports'\n",
        "    if not os.path.exists(export_dir):\n",
        "        os.makedirs(export_dir)\n",
        "\n",
        "    if export_mean:\n",
        "        print(\"Exporting mean NDVI...\")\n",
        "        mean_ndvi_image = processed_collection.mean().clip(aoi)\n",
        "        filename = f'NDVI_Mean_{start_date.replace(\"-\", \"\")}_{end_date.replace(\"-\", \"\")}.tif'\n",
        "        task = ee.batch.Export.image.toDrive(\n",
        "            image=mean_ndvi_image,\n",
        "            description=filename,\n",
        "            folder='earth_engine_exports', # You can change this folder name in your Google Drive\n",
        "            fileNamePrefix=filename.replace('.tif', ''),\n",
        "            scale=10,\n",
        "            region=aoi.geometry(),\n",
        "            fileFormat='GeoTIFF',\n",
        "            crs='EPSG:4326'\n",
        "        )\n",
        "        task.start()\n",
        "        print(f\"Mean NDVI export task started: {task.id}\")\n",
        "    else:\n",
        "        print(\"Exporting individual NDVI images...\")\n",
        "        image_list = processed_collection.toList(processed_collection.size())\n",
        "\n",
        "        for i in range(image_list.size().getInfo()):\n",
        "            image = ee.Image(image_list.get(i)).clip(aoi)\n",
        "            image_date = ee.Image(image_list.get(i)).date().format('YYYYMMDD').getInfo()\n",
        "            filename = f'NDVI_{image_date}.tif' # AOINAME is not available, using date only\n",
        "            task = ee.batch.Export.image.toDrive(\n",
        "                image=image,\n",
        "                description=filename,\n",
        "                folder='earth_engine_exports', # You can change this folder name in your Google Drive\n",
        "                fileNamePrefix=filename.replace('.tif', ''),\n",
        "                scale=10,\n",
        "                region=aoi.geometry(),\n",
        "                fileFormat='GeoTIFF',\n",
        "                crs='EPSG:4326'\n",
        "            )\n",
        "            task.start()\n",
        "            print(f\"Export task for {filename} started: {task.id}\")"
      ]
    },
    {
      "cell_type": "markdown",
      "metadata": {
        "id": "d8763ab5"
      },
      "source": [
        "## Sentinel-2 Data Processing\n",
        "\n",
        "### Subtask:\n",
        "Define a function to build the Sentinel-2 collection, apply a cloud mask using the SCL band, and compute the NDVI."
      ]
    },
    {
      "cell_type": "markdown",
      "metadata": {
        "id": "ac839357"
      },
      "source": [
        "**Reasoning**:\n",
        "Define a function `process_sentinel2` that takes the AOI, start date, and end date as input. Inside the function, filter the Sentinel-2 collection by date and bounds, apply the cloud mask, and compute the NDVI."
      ]
    },
    {
      "cell_type": "code",
      "execution_count": null,
      "metadata": {
        "id": "6e2d21a4"
      },
      "outputs": [],
      "source": [
        "def process_sentinel2(aoi, start_date, end_date):\n",
        "    \"\"\"\n",
        "    Builds the Sentinel-2 collection, applies cloud masking, and computes NDVI.\n",
        "\n",
        "    Args:\n",
        "        aoi (ee.FeatureCollection or ee.Geometry): The area of interest.\n",
        "        start_date (str): The start date in 'YYYY-MM-DD' format.\n",
        "        end_date (str): The end date in 'YYYY-MM-DD' format.\n",
        "\n",
        "    Returns:\n",
        "        ee.ImageCollection: The processed Sentinel-2 image collection with NDVI and original bands.\n",
        "    \"\"\"\n",
        "    print(f\"Processing Sentinel-2 for AOI, dates: {start_date} to {end_date}\")\n",
        "    \n",
        "    # Filter Sentinel-2 SR Harmonized collection by date and bounds\n",
        "    collection = ee.ImageCollection('COPERNICUS/S2_SR_HARMONIZED') \\\n",
        "        .filterDate(start_date, end_date) \\\n",
        "        .filterBounds(aoi)\n",
        "\n",
        "    print(f\"Initial collection size: {collection.size().getInfo()}\")\n",
        "\n",
        "    # Function to mask clouds using the Sentinel-2 SCL band\n",
        "    def mask_clouds(image):\n",
        "        scl = image.select('SCL')\n",
        "        # These are the pixel values for clouds, cloud shadows, and snow.\n",
        "        # SCL values: 3=cloud shadow, 8=cloud medium probability, 9=cloud high probability, 10=thin cirrus, 11=snow\n",
        "        cloud_mask = scl.neq(3).And(scl.neq(8)).And(scl.neq(9)).And(scl.neq(10)).And(scl.neq(11))\n",
        "        return image.updateMask(cloud_mask)\n",
        "\n",
        "    # Function to compute NDVI and scale reflectance bands\n",
        "    def compute_ndvi(image):\n",
        "        # Scale reflectance bands (Sentinel-2 values are in 0-10000 range)\n",
        "        scaled_image = image.select(['B4', 'B8']).multiply(0.0001)\n",
        "        ndvi = scaled_image.normalizedDifference(['B8', 'B4']).rename('NDVI')\n",
        "        # Add the NDVI band to the original image\n",
        "        return image.addBands(ndvi)\n",
        "\n",
        "    # Apply cloud mask and compute NDVI, keeping all bands\n",
        "    processed_collection = collection.map(mask_clouds).map(compute_ndvi)\n",
        "\n",
        "    print(f\"Processed collection size (after masking and NDVI): {processed_collection.size().getInfo()}\")\n",
        "\n",
        "    # Return the collection with all bands (including NDVI)\n",
        "    return processed_collection"
      ]
    },
    {
      "cell_type": "markdown",
      "metadata": {
        "id": "2d1bbf69"
      },
      "source": [
        "# Task\n",
        "Build a Google Colab notebook in Python that allows users to upload a polygon file (KML, GeoJSON, or zipped Shapefile), parse it as an AOI in WGS84, preview the AOI on a map, select a date range using widgets, download cloud-masked Sentinel-2 NDVI GeoTIFFs for the AOI and date range (clipped to AOI if possible), save them with descriptive filenames to `/content/exports`, zip the files, and provide a download link. Include an optional toggle to export a single mean NDVI for the date range. The notebook should use `earthengine-api`, `geemap`, and `ipywidgets`, authenticate with Earth Engine, use Sentinel-2 SR Harmonized (COPERNICUS/S2_SR_HARMONIZED) with SCL cloud masking, compute NDVI after scaling reflectance by 0.0001, and output GeoTIFFs at 10m scale in EPSG:4326."
      ]
    },
    {
      "cell_type": "markdown",
      "metadata": {
        "id": "2b685fb7"
      },
      "source": [
        "## Setup and authentication\n",
        "\n",
        "### Subtask:\n",
        "Install necessary libraries (`earthengine-api`, `geemap`, `ipywidgets`), authenticate with Earth Engine, and initialize it.\n"
      ]
    },
    {
      "cell_type": "markdown",
      "metadata": {
        "id": "8ea63e55"
      },
      "source": [
        "**Reasoning**:\n",
        "Install the necessary libraries using pip.\n",
        "\n"
      ]
    },
    {
      "cell_type": "code",
      "execution_count": null,
      "metadata": {
        "id": "bd1cf86b"
      },
      "outputs": [],
      "source": [
        "%pip install -U -q earthengine-api geemap ipywidgets"
      ]
    },
    {
      "cell_type": "markdown",
      "metadata": {
        "id": "c15d5d0c"
      },
      "source": [
        "**Reasoning**:\n",
        "Authenticate and initialize Earth Engine.\n",
        "\n"
      ]
    },
    {
      "cell_type": "code",
      "execution_count": null,
      "metadata": {
        "id": "f8bb092f"
      },
      "outputs": [],
      "source": [
        "import ee\n",
        "\n",
        "try:\n",
        "    ee.Initialize()\n",
        "    print('Google Earth Engine has been successfully initialized.')\n",
        "except Exception as e:\n",
        "    print(f'Failed to initialize Google Earth Engine: {e}')\n",
        "    print('Please authenticate with Google Earth Engine by running ee.Authenticate() in a separate cell.')\n"
      ]
    },
    {
      "cell_type": "markdown",
      "metadata": {
        "id": "04d93467"
      },
      "source": [
        "**Reasoning**:\n",
        "Authenticate Earth Engine as instructed by the error message.\n",
        "\n"
      ]
    },
    {
      "cell_type": "code",
      "execution_count": null,
      "metadata": {
        "id": "b241cb61"
      },
      "outputs": [],
      "source": [
        "ee.Authenticate()"
      ]
    },
    {
      "cell_type": "markdown",
      "metadata": {
        "id": "7d493b8e"
      },
      "source": [
        "**Reasoning**:\n",
        "Re-initialize Earth Engine after successful authentication.\n",
        "\n"
      ]
    },
    {
      "cell_type": "code",
      "execution_count": null,
      "metadata": {
        "id": "9e182db2"
      },
      "outputs": [],
      "source": [
        "try:\n",
        "    ee.Initialize()\n",
        "    print('Google Earth Engine has been successfully initialized after authentication.')\n",
        "except Exception as e:\n",
        "    print(f'Failed to initialize Google Earth Engine after authentication: {e}')"
      ]
    },
    {
      "cell_type": "markdown",
      "metadata": {
        "id": "3594209b"
      },
      "source": [
        "**Reasoning**:\n",
        "Re-initialize Earth Engine with a project ID as instructed by the error message.\n",
        "\n"
      ]
    },
    {
      "cell_type": "code",
      "execution_count": null,
      "metadata": {
        "id": "ecf2b859"
      },
      "outputs": [],
      "source": [
        "try:\n",
        "    ee.Initialize(project='jessemapping')\n",
        "    print('Google Earth Engine has been successfully initialized with a project.')\n",
        "except Exception as e:\n",
        "    print(f'Failed to initialize Google Earth Engine with a project: {e}')"
      ]
    },
    {
      "cell_type": "markdown",
      "metadata": {
        "id": "0e9b45d9"
      },
      "source": [
        "## Aoi upload and visualization\n",
        "\n",
        "### Subtask:\n",
        "Create functionality to upload a polygon file (KML, GeoJSON, or zipped Shapefile), parse it as an Earth Engine feature collection in WGS84, and display it on an interactive map using `geemap` with a satellite basemap, ensuring it's centered and visible.\n"
      ]
    },
    {
      "cell_type": "markdown",
      "metadata": {
        "id": "413b1099"
      },
      "source": [
        "**Reasoning**:\n",
        "Import necessary libraries and create a file upload widget.\n",
        "\n"
      ]
    },
    {
      "cell_type": "code",
      "execution_count": null,
      "metadata": {
        "id": "b61aff89"
      },
      "outputs": [],
      "source": [
        "import ipywidgets as widgets\n",
        "import geemap\n",
        "import os\n",
        "\n",
        "# Global variable to store the AOI name\n",
        "aoi_name_global = None\n",
        "\n",
        "# Define the handle_upload function here\n",
        "def handle_upload(change):\n",
        "    print(\"handle_upload function triggered.\") # Debug print\n",
        "    uploaded_file = upload_widget.value[0]\n",
        "    file_name = uploaded_file['name']\n",
        "    file_content = uploaded_file['content']\n",
        "\n",
        "    global aoi # Declare aoi as global\n",
        "    global aoi_name_global # Declare aoi_name_global as global\n",
        "    aoi = None # Reset aoi\n",
        "    aoi_name_global = None # Reset aoi name\n",
        "    print(f\"Processing file: {file_name}\") # Debug print\n",
        "\n",
        "    try:\n",
        "        # Store the AOI name (cleaned filename without extension)\n",
        "        aoi_name_global = os.path.splitext(file_name)[0]\n",
        "        # Replace spaces and special characters if needed for a valid filename\n",
        "        aoi_name_global = aoi_name_global.replace(\" \", \"_\").replace(\"-\", \"_\") # Example cleaning\n",
        "\n",
        "        if file_name.endswith('.kml'):\n",
        "            # Save content to a temporary KML file\n",
        "            with open(file_name, 'wb') as f:\n",
        "                f.write(file_content)\n",
        "            aoi = geemap.kml_to_ee(file_name)\n",
        "            os.remove(file_name) # Clean up temporary file\n",
        "        elif file_name.endswith('.geojson'):\n",
        "            # Save content to a temporary GeoJSON file\n",
        "            with open(file_name, 'wb') as f:\n",
        "                f.write(file_content)\n",
        "            aoi = geemap.geojson_to_ee(file_name)\n",
        "            os.remove(file_name) # Clean up temporary file\n",
        "        elif file_name.endswith('.zip'):\n",
        "            # Save content to a temporary zip file\n",
        "            with open(file_name, 'wb') as f:\n",
        "                f.write(file_content)\n",
        "            aoi = geemap.shp_to_ee(file_name)\n",
        "            os.remove(file_name) # Clean up temporary file\n",
        "        else:\n",
        "            print(\"Unsupported file type.\")\n",
        "            aoi_name_global = None # Reset if unsupported\n",
        "            return\n",
        "\n",
        "        if aoi:\n",
        "            # Ensure the AOI is in WGS84 (EPSG:4326) with a non-zero error margin\n",
        "            aoi = aoi.geometry().transform('EPSG:4326', 1) # Added maxError=1\n",
        "            print(\"AOI uploaded and processed successfully.\") # Debug print\n",
        "            if aoi_name_global:\n",
        "                print(f\"AOI Name: {aoi_name_global}\")\n",
        "            print(\"Run the next cell to display the map.\")\n",
        "        else:\n",
        "            print(\"Failed to process the uploaded file: AOI is None.\") # Debug print\n",
        "            aoi_name_global = None # Reset if processing fails\n",
        "\n",
        "    except Exception as e:\n",
        "        print(f\"An error occurred during file processing: {e}\") # Debug print\n",
        "        aoi = None # Ensure aoi is None if processing fails\n",
        "        aoi_name_global = None # Reset if processing fails\n",
        "\n",
        "\n",
        "upload_widget = widgets.FileUpload(\n",
        "    accept='.kml,.geojson,.zip',\n",
        "    multiple=False\n",
        ")\n",
        "\n",
        "display(upload_widget)\n",
        "\n",
        "# Attach the observer to the widget\n",
        "upload_widget.observe(handle_upload, names='value')"
      ]
    },
    {
      "cell_type": "markdown",
      "metadata": {
        "id": "0dbd7800"
      },
      "source": [
        "**Reasoning**:\n",
        "Define the function to handle file uploads, parse the file as an Earth Engine feature collection, and display it on a map.\n",
        "\n"
      ]
    },
    {
      "cell_type": "markdown",
      "metadata": {
        "id": "355b1cb7"
      },
      "source": [
        "**Reasoning**:\n",
        "Add a new cell to display the map with the uploaded AOI after the file has been processed by the `handle_upload` function."
      ]
    },
    {
      "cell_type": "code",
      "execution_count": null,
      "metadata": {
        "id": "07700b31"
      },
      "outputs": [],
      "source": [
        "# Display the AOI on a map after upload\n",
        "if 'aoi' in globals() and aoi is not None:\n",
        "    m = geemap.Map(basemap='SATELLITE')\n",
        "    m.addLayer(ee.FeatureCollection(aoi), {}, 'Uploaded AOI')\n",
        "    m.centerObject(aoi)\n",
        "    display(m)\n",
        "else:\n",
        "    print(\"Please upload an AOI using the widget above first.\")"
      ]
    },
    {
      "cell_type": "markdown",
      "metadata": {
        "id": "6d44950b"
      },
      "source": [
        "## Interactive widgets for date and export\n",
        "\n",
        "### Subtask:\n",
        "Add `ipywidgets` for selecting a start and end date and a button to trigger the data export process. Include a toggle for exporting the mean NDVI.\n"
      ]
    },
    {
      "cell_type": "code",
      "execution_count": null,
      "metadata": {
        "id": "32222955"
      },
      "outputs": [],
      "source": [
        "from datetime import datetime\n",
        "import ipywidgets as widgets\n",
        "from IPython.display import display, clear_output\n",
        "import ee\n",
        "import ee.batch\n",
        "import os\n",
        "\n",
        "# Global variables used by functions in cell 8e6c47aa\n",
        "# available_dates_dict = {}\n",
        "# processed_collection_global = None\n",
        "\n",
        "# The get_available_dates function and the on_click binding for get_dates_button\n",
        "# have been moved to cell 8e6c47aa for better organization.\n",
        "\n",
        "# This cell can now be used for other imports or definitions if needed,\n",
        "# or it can be left with just necessary imports and global variable declarations.\n",
        "# The core logic for date selection widgets and button interaction is now in cell 8e6c47aa.\n",
        "\n",
        "# Note: The process_sentinel2 function is assumed to be defined in another cell (e.g., cell 6e2d21a4).\n",
        "# Ensure that cell is run before running cell 8e6c47aa."
      ]
    },
    {
      "cell_type": "markdown",
      "metadata": {
        "id": "8d654b38"
      },
      "source": [
        "**Reasoning**:\n",
        "Create and display the date picker widgets, the mean NDVI checkbox, and the export button as specified in the instructions.\n",
        "\n"
      ]
    },
    {
      "cell_type": "code",
      "execution_count": null,
      "metadata": {
        "id": "8e6c47aa"
      },
      "outputs": [],
      "source": [
        "# --- Colab / ipywidgets friendly UI for S2 date picking + NDVI/RGB exports ---\n",
        "\n",
        "from datetime import datetime\n",
        "import ipywidgets as widgets\n",
        "from IPython.display import display, clear_output\n",
        "import ee, ee.batch\n",
        "\n",
        "# (Colab) Make sure custom widget manager is enabled\n",
        "try:\n",
        "    from google.colab import output as _colab_output\n",
        "    _colab_output.enable_custom_widget_manager()\n",
        "except Exception:\n",
        "    pass\n",
        "\n",
        "# -----------------------\n",
        "# Globals used across UI\n",
        "# -----------------------\n",
        "available_dates_dict = {}\n",
        "processed_collection_global = None\n",
        "\n",
        "# -----------------------\n",
        "# UI callbacks and logic\n",
        "# -----------------------\n",
        "def get_available_dates(_):\n",
        "    \"\"\"\n",
        "    Finds cloud-free S2 images between chosen dates and renders the date-selection/export panel.\n",
        "    \"\"\"\n",
        "    global available_dates_dict, processed_collection_global\n",
        "\n",
        "    if 'aoi' not in globals() or aoi is None:\n",
        "        print(\"Please upload/define an AOI first.\")\n",
        "        return\n",
        "\n",
        "    start_date_str = start_date_widget.value.strftime('%Y-%m-%d')\n",
        "    end_date_str = end_date_widget.value.strftime('%Y-%m-%d')\n",
        "\n",
        "    print(f\"Processing Sentinel-2 data for dates: {start_date_str} to {end_date_str}\")\n",
        "    \n",
        "    # Process Sentinel-2 collection\n",
        "    processed_collection_global = process_sentinel2(aoi, start_date_str, end_date_str)\n",
        "\n",
        "    # Extract available dates\n",
        "    try:\n",
        "        info_list = processed_collection_global.toList(\n",
        "            processed_collection_global.size()\n",
        "        ).getInfo()\n",
        "\n",
        "        # Map date_str -> time_start_millis\n",
        "        tmp = {}\n",
        "        for img_info in info_list:\n",
        "            ts_ms = img_info['properties']['system:time_start']\n",
        "            date_str = datetime.utcfromtimestamp(ts_ms / 1000).strftime('%Y-%m-%d')\n",
        "            tmp[date_str] = ts_ms\n",
        "\n",
        "        # Sort by date\n",
        "        ordered_dates = sorted(tmp.keys())\n",
        "        available_dates_dict = {d: tmp[d] for d in ordered_dates}\n",
        "\n",
        "    except Exception as e:\n",
        "        print(f\"Error reading collection dates: {e}\")\n",
        "        available_dates_dict = {}\n",
        "\n",
        "    if available_dates_dict:\n",
        "        print(f\"Found {len(available_dates_dict)} cloud-free images\")\n",
        "        display_date_selection_widgets()\n",
        "    else:\n",
        "        print(\"No cloud-free images found for the selected range and AOI.\")\n",
        "\n",
        "def display_date_selection_widgets():\n",
        "    \"\"\"\n",
        "    Renders the date selection and export panel.\n",
        "    \"\"\"\n",
        "    global date_selector, export_button, output_folder_widget, export_rgb_toggle\n",
        "\n",
        "    # Clear previous output\n",
        "    clear_output(wait=True)\n",
        "    \n",
        "    # Date selection widget\n",
        "    date_selector = widgets.SelectMultiple(\n",
        "        options=list(available_dates_dict.keys()),\n",
        "        description='Select Dates:',\n",
        "        rows=min(10, max(1, len(available_dates_dict))),\n",
        "        layout=widgets.Layout(width='100%')\n",
        "    )\n",
        "\n",
        "    # Output folder widget\n",
        "    output_folder_widget = widgets.Text(\n",
        "        value='earth_engine_exports',\n",
        "        description='Output Folder:',\n",
        "        layout=widgets.Layout(width='100%')\n",
        "    )\n",
        "\n",
        "    # RGB export toggle\n",
        "    export_rgb_toggle = widgets.Checkbox(\n",
        "        value=False,\n",
        "        description='Also export RGB (B4,B3,B2) for each selected date',\n",
        "        indent=False\n",
        "    )\n",
        "\n",
        "    # Export button\n",
        "    export_button = widgets.Button(\n",
        "        description='Start Export',\n",
        "        button_style='success',\n",
        "        tooltip='Export NDVI (and RGB if toggled)',\n",
        "        icon='download'\n",
        "    )\n",
        "    export_button.on_click(on_export_button_clicked)\n",
        "\n",
        "    # Display the export panel\n",
        "    export_panel = widgets.VBox([\n",
        "        widgets.HTML(\"<h3>Step 2: Select dates and export options</h3>\"),\n",
        "        widgets.HTML(f\"<p>Available dates: {', '.join(list(available_dates_dict.keys()))}</p>\"),\n",
        "        date_selector,\n",
        "        widgets.HTML(\"<br>\"),\n",
        "        output_folder_widget,\n",
        "        widgets.HTML(\"<br>\"),\n",
        "        export_rgb_toggle,\n",
        "        widgets.HTML(\"<br>\"),\n",
        "        export_button\n",
        "    ])\n",
        "\n",
        "    display(export_panel)\n",
        "\n",
        "def on_export_button_clicked(_):\n",
        "    \"\"\"\n",
        "    Exports either Mean NDVI or per-date NDVI (and optional RGB) for selected dates.\n",
        "    \"\"\"\n",
        "    global processed_collection_global, available_dates_dict\n",
        "\n",
        "    if 'aoi' not in globals() or aoi is None:\n",
        "        print(\"Please upload/define an AOI first.\")\n",
        "        return\n",
        "    if processed_collection_global is None:\n",
        "        print(\"Please click 'Get Available Dates' first.\")\n",
        "        return\n",
        "\n",
        "    selected_dates = list(date_selector.value) if 'date_selector' in globals() else []\n",
        "    export_mean = mean_ndvi_toggle.value\n",
        "    export_rgb = export_rgb_toggle.value if 'export_rgb_toggle' in globals() else False\n",
        "    output_folder = output_folder_widget.value if 'output_folder_widget' in globals() else 'earth_engine_exports'\n",
        "\n",
        "    aoi_name = (aoi_name_global if 'aoi_name_global' in globals() and aoi_name_global\n",
        "                else \"AOI\")\n",
        "\n",
        "    # Validation\n",
        "    if not selected_dates and not export_mean:\n",
        "        print(\"Please select at least one date or enable 'Export Mean NDVI Only'.\")\n",
        "        return\n",
        "\n",
        "    print(f\"Export settings:\")\n",
        "    print(f\"- AOI: {aoi_name}\")\n",
        "    print(f\"- Output folder: {output_folder}\")\n",
        "    print(f\"- Export mean: {export_mean}\")\n",
        "    print(f\"- Export RGB: {export_rgb}\")\n",
        "    print(f\"- Selected dates: {selected_dates}\")\n",
        "\n",
        "    # Mean NDVI export\n",
        "    if export_mean:\n",
        "        if export_rgb:\n",
        "            print(\"Note: RGB export is not applicable to Mean NDVI. Exporting Mean NDVI only.\")\n",
        "        print(\"Exporting Mean NDVI...\")\n",
        "        mean_img = processed_collection_global.select('NDVI').mean().clip(aoi)\n",
        "        start_date_str = start_date_widget.value.strftime('%Y-%m-%d')\n",
        "        end_date_str = end_date_widget.value.strftime('%Y-%m-%d')\n",
        "        fname = f'{aoi_name}_NDVI_Mean_{start_date_str}_{end_date_str}.tif'\n",
        "\n",
        "        task = ee.batch.Export.image.toDrive(\n",
        "            image=mean_img,\n",
        "            description=fname,\n",
        "            folder=output_folder,\n",
        "            fileNamePrefix=fname.replace('.tif', ''),\n",
        "            scale=10,\n",
        "            region=aoi,\n",
        "            fileFormat='GeoTIFF',\n",
        "            crs='EPSG:4326'\n",
        "        )\n",
        "        task.start()\n",
        "        print(f\"Mean NDVI export started: {task.id}\")\n",
        "        return\n",
        "\n",
        "    # Per-date exports\n",
        "    print(\"Exporting selected per-date images...\")\n",
        "    selected_ts = [available_dates_dict[d] for d in selected_dates if d in available_dates_dict]\n",
        "    sel_coll = processed_collection_global.filter(ee.Filter.inList('system:time_start', selected_ts))\n",
        "\n",
        "    size = sel_coll.size().getInfo()\n",
        "    print(f\"Selected collection has {size} image(s).\")\n",
        "    if size == 0:\n",
        "        print(\"No images matched the selected dates.\")\n",
        "        return\n",
        "\n",
        "    imgs = sel_coll.toList(size)\n",
        "    for i in range(size):\n",
        "        img = ee.Image(imgs.get(i)).clip(aoi)\n",
        "        date_str = ee.Image(imgs.get(i)).date().format('YYYY-MM-dd').getInfo()\n",
        "\n",
        "        # NDVI export\n",
        "        ndvi = img.select('NDVI')\n",
        "        ndvi_name = f'{aoi_name}_NDVI_{date_str}.tif'\n",
        "        t_ndvi = ee.batch.Export.image.toDrive(\n",
        "            image=ndvi,\n",
        "            description=ndvi_name,\n",
        "            folder=output_folder,\n",
        "            fileNamePrefix=ndvi_name.replace('.tif', ''),\n",
        "            scale=10,\n",
        "            region=aoi,\n",
        "            fileFormat='GeoTIFF',\n",
        "            crs='EPSG:4326'\n",
        "        )\n",
        "        t_ndvi.start()\n",
        "        print(f\"NDVI export started: {ndvi_name} -> task {t_ndvi.id}\")\n",
        "\n",
        "        # Optional RGB export (B4,B3,B2) - scaled for visualization\n",
        "        if export_rgb:\n",
        "            # Scale the RGB bands for proper visualization (0-255 range)\n",
        "            rgb = img.select(['B4', 'B3', 'B2']).multiply(0.0001).multiply(255).uint8()\n",
        "            rgb_name = f'{aoi_name}_RGB_{date_str}.tif'\n",
        "            t_rgb = ee.batch.Export.image.toDrive(\n",
        "                image=rgb,\n",
        "                description=rgb_name,\n",
        "                folder=output_folder,\n",
        "                fileNamePrefix=rgb_name.replace('.tif', ''),\n",
        "                scale=10,\n",
        "                region=aoi,\n",
        "                fileFormat='GeoTIFF',\n",
        "                crs='EPSG:4326'\n",
        "            )\n",
        "            t_rgb.start()\n",
        "            print(f\"RGB export started: {rgb_name} -> task {t_rgb.id}\")\n",
        "\n",
        "# -----------------------\n",
        "# Initial controls panel\n",
        "# -----------------------\n",
        "start_date_widget = widgets.DatePicker(description='Start Date:', value=datetime(2023, 1, 1))\n",
        "end_date_widget = widgets.DatePicker(description='End Date:', value=datetime(2023, 12, 31))\n",
        "\n",
        "mean_ndvi_toggle = widgets.Checkbox(\n",
        "    value=False,\n",
        "    description='Export Mean NDVI Only',\n",
        "    indent=False\n",
        ")\n",
        "\n",
        "get_dates_button = widgets.Button(\n",
        "    description='Get Available Dates',\n",
        "    button_style='info',\n",
        "    tooltip='Find available cloud-free dates',\n",
        "    icon='search'\n",
        ")\n",
        "get_dates_button.on_click(get_available_dates)\n",
        "\n",
        "initial_panel = widgets.VBox([\n",
        "    widgets.HTML(\"<h3>Step 1: Choose date range and export options</h3>\"),\n",
        "    widgets.HBox([start_date_widget, end_date_widget]),\n",
        "    mean_ndvi_toggle,\n",
        "    get_dates_button\n",
        "])\n",
        "display(initial_panel)\n"
      ]
    },
    {
      "cell_type": "markdown",
      "metadata": {
        "id": "DqSz0e3PUoWn"
      },
      "source": [
        "So i think after i do this, i should try learn how to use GeoAI to detect trees so we can cut those out easily. Then i can downlaod a pile of ndvi imagery for a ranch, cut out the trees and plot the ndvi time series in fairly high temporal resolution\n",
        "Realistically i should try continue this notebook on as much as possible - split out fields, plot ndvi values over time for each one maybe using seaborn or plotly etc\n"
      ]
    }
  ],
  "metadata": {
    "colab": {
      "authorship_tag": "ABX9TyNTfoF5tThnmizfbGlynVWS",
      "include_colab_link": true,
      "provenance": []
    },
    "kernelspec": {
      "display_name": "Python 3",
      "name": "python3"
    },
    "language_info": {
      "name": "python"
    }
  },
  "nbformat": 4,
  "nbformat_minor": 0
}

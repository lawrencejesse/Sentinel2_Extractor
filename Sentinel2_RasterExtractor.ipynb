{
  "nbformat": 4,
  "nbformat_minor": 0,
  "metadata": {
    "colab": {
      "provenance": [],
      "authorship_tag": "ABX9TyNTfoF5tThnmizfbGlynVWS",
      "include_colab_link": true
    },
    "kernelspec": {
      "name": "python3",
      "display_name": "Python 3"
    },
    "language_info": {
      "name": "python"
    },
    "widgets": {
      "application/vnd.jupyter.widget-state+json": {
        "6070506b27f54e28838b347a7888a601": {
          "model_module": "@jupyter-widgets/controls",
          "model_name": "FileUploadModel",
          "model_module_version": "1.5.0",
          "state": {
            "_counter": 0,
            "_dom_classes": [],
            "_model_module": "@jupyter-widgets/controls",
            "_model_module_version": "1.5.0",
            "_model_name": "FileUploadModel",
            "_view_count": null,
            "_view_module": "@jupyter-widgets/controls",
            "_view_module_version": "1.5.0",
            "_view_name": "FileUploadView",
            "accept": ".kml,.geojson,.zip",
            "button_style": "",
            "data": [],
            "description": "Upload",
            "description_tooltip": null,
            "disabled": false,
            "error": "",
            "icon": "upload",
            "layout": "IPY_MODEL_653a6e435679468082f2d599cc1c25f8",
            "metadata": [],
            "multiple": false,
            "style": "IPY_MODEL_3dc3c51a00ff4cda8b143b6a104c056e",
            "value": [
              {
                "name": "LAWRENCE_RANCH_PLUS.kml",
                "type": "application/vnd.google-earth.kml+xml",
                "size": 853,
                "last_modified": 1758336323500
              }
            ]
          }
        },
        "653a6e435679468082f2d599cc1c25f8": {
          "model_module": "@jupyter-widgets/base",
          "model_name": "LayoutModel",
          "model_module_version": "1.2.0",
          "state": {
            "_model_module": "@jupyter-widgets/base",
            "_model_module_version": "1.2.0",
            "_model_name": "LayoutModel",
            "_view_count": null,
            "_view_module": "@jupyter-widgets/base",
            "_view_module_version": "1.2.0",
            "_view_name": "LayoutView",
            "align_content": null,
            "align_items": null,
            "align_self": null,
            "border": null,
            "bottom": null,
            "display": null,
            "flex": null,
            "flex_flow": null,
            "grid_area": null,
            "grid_auto_columns": null,
            "grid_auto_flow": null,
            "grid_auto_rows": null,
            "grid_column": null,
            "grid_gap": null,
            "grid_row": null,
            "grid_template_areas": null,
            "grid_template_columns": null,
            "grid_template_rows": null,
            "height": null,
            "justify_content": null,
            "justify_items": null,
            "left": null,
            "margin": null,
            "max_height": null,
            "max_width": null,
            "min_height": null,
            "min_width": null,
            "object_fit": null,
            "object_position": null,
            "order": null,
            "overflow": null,
            "overflow_x": null,
            "overflow_y": null,
            "padding": null,
            "right": null,
            "top": null,
            "visibility": null,
            "width": null
          }
        },
        "3dc3c51a00ff4cda8b143b6a104c056e": {
          "model_module": "@jupyter-widgets/controls",
          "model_name": "ButtonStyleModel",
          "model_module_version": "1.5.0",
          "state": {
            "_model_module": "@jupyter-widgets/controls",
            "_model_module_version": "1.5.0",
            "_model_name": "ButtonStyleModel",
            "_view_count": null,
            "_view_module": "@jupyter-widgets/base",
            "_view_module_version": "1.2.0",
            "_view_name": "StyleView",
            "button_color": null,
            "font_weight": ""
          }
        },
        "fb30a7c0394f4a45a51ebe304ee8be0f": {
          "model_module": "@jupyter-widgets/controls",
          "model_name": "VBoxModel",
          "model_module_version": "1.5.0",
          "state": {
            "_dom_classes": [],
            "_model_module": "@jupyter-widgets/controls",
            "_model_module_version": "1.5.0",
            "_model_name": "VBoxModel",
            "_view_count": null,
            "_view_module": "@jupyter-widgets/controls",
            "_view_module_version": "1.5.0",
            "_view_name": "VBoxView",
            "box_style": "",
            "children": [
              "IPY_MODEL_64456189eb3a480f8b4c9fa65cf37b58",
              "IPY_MODEL_106ab136185343adb5ee06f43849807d",
              "IPY_MODEL_0016337f9d324b6590fc22f15ad7aba3",
              "IPY_MODEL_b6bd6c3e5a774da6b10c5163621a8f56"
            ],
            "layout": "IPY_MODEL_90e2a85c34fe4a54af956b7b2a288c16"
          }
        },
        "64456189eb3a480f8b4c9fa65cf37b58": {
          "model_module": "@jupyter-widgets/controls",
          "model_name": "HTMLModel",
          "model_module_version": "1.5.0",
          "state": {
            "_dom_classes": [],
            "_model_module": "@jupyter-widgets/controls",
            "_model_module_version": "1.5.0",
            "_model_name": "HTMLModel",
            "_view_count": null,
            "_view_module": "@jupyter-widgets/controls",
            "_view_module_version": "1.5.0",
            "_view_name": "HTMLView",
            "description": "",
            "description_tooltip": null,
            "layout": "IPY_MODEL_ac1d7721d9854d46bdf91e42bae1e29c",
            "placeholder": "​",
            "style": "IPY_MODEL_9205d485beb14c689dc573f1e80c442f",
            "value": "<b>Step 1: Choose dates and (optionally) Mean NDVI</b>"
          }
        },
        "106ab136185343adb5ee06f43849807d": {
          "model_module": "@jupyter-widgets/controls",
          "model_name": "HBoxModel",
          "model_module_version": "1.5.0",
          "state": {
            "_dom_classes": [],
            "_model_module": "@jupyter-widgets/controls",
            "_model_module_version": "1.5.0",
            "_model_name": "HBoxModel",
            "_view_count": null,
            "_view_module": "@jupyter-widgets/controls",
            "_view_module_version": "1.5.0",
            "_view_name": "HBoxView",
            "box_style": "",
            "children": [
              "IPY_MODEL_fe63c4aacd05425cbe97a60f69607ab2",
              "IPY_MODEL_264f11a7350640e393d3e2333624fc3c"
            ],
            "layout": "IPY_MODEL_cd058884536840088279ba0fd3ba326f"
          }
        },
        "0016337f9d324b6590fc22f15ad7aba3": {
          "model_module": "@jupyter-widgets/controls",
          "model_name": "CheckboxModel",
          "model_module_version": "1.5.0",
          "state": {
            "_dom_classes": [],
            "_model_module": "@jupyter-widgets/controls",
            "_model_module_version": "1.5.0",
            "_model_name": "CheckboxModel",
            "_view_count": null,
            "_view_module": "@jupyter-widgets/controls",
            "_view_module_version": "1.5.0",
            "_view_name": "CheckboxView",
            "description": "Export Mean NDVI Only",
            "description_tooltip": null,
            "disabled": false,
            "indent": false,
            "layout": "IPY_MODEL_f6e2bc3e85104d0496fcaa7277578074",
            "style": "IPY_MODEL_077c76b7ca9e47ecb864ade67ef0367c",
            "value": false
          }
        },
        "b6bd6c3e5a774da6b10c5163621a8f56": {
          "model_module": "@jupyter-widgets/controls",
          "model_name": "ButtonModel",
          "model_module_version": "1.5.0",
          "state": {
            "_dom_classes": [],
            "_model_module": "@jupyter-widgets/controls",
            "_model_module_version": "1.5.0",
            "_model_name": "ButtonModel",
            "_view_count": null,
            "_view_module": "@jupyter-widgets/controls",
            "_view_module_version": "1.5.0",
            "_view_name": "ButtonView",
            "button_style": "info",
            "description": "Get Available Dates",
            "disabled": false,
            "icon": "search",
            "layout": "IPY_MODEL_954ca0cab4b7472e8398e809df6a5cde",
            "style": "IPY_MODEL_3d3ec1619f6f43e990c1d77e90f29b12",
            "tooltip": "Find available cloud-free dates"
          }
        },
        "90e2a85c34fe4a54af956b7b2a288c16": {
          "model_module": "@jupyter-widgets/base",
          "model_name": "LayoutModel",
          "model_module_version": "1.2.0",
          "state": {
            "_model_module": "@jupyter-widgets/base",
            "_model_module_version": "1.2.0",
            "_model_name": "LayoutModel",
            "_view_count": null,
            "_view_module": "@jupyter-widgets/base",
            "_view_module_version": "1.2.0",
            "_view_name": "LayoutView",
            "align_content": null,
            "align_items": null,
            "align_self": null,
            "border": null,
            "bottom": null,
            "display": null,
            "flex": null,
            "flex_flow": null,
            "grid_area": null,
            "grid_auto_columns": null,
            "grid_auto_flow": null,
            "grid_auto_rows": null,
            "grid_column": null,
            "grid_gap": null,
            "grid_row": null,
            "grid_template_areas": null,
            "grid_template_columns": null,
            "grid_template_rows": null,
            "height": null,
            "justify_content": null,
            "justify_items": null,
            "left": null,
            "margin": null,
            "max_height": null,
            "max_width": null,
            "min_height": null,
            "min_width": null,
            "object_fit": null,
            "object_position": null,
            "order": null,
            "overflow": null,
            "overflow_x": null,
            "overflow_y": null,
            "padding": null,
            "right": null,
            "top": null,
            "visibility": null,
            "width": null
          }
        },
        "ac1d7721d9854d46bdf91e42bae1e29c": {
          "model_module": "@jupyter-widgets/base",
          "model_name": "LayoutModel",
          "model_module_version": "1.2.0",
          "state": {
            "_model_module": "@jupyter-widgets/base",
            "_model_module_version": "1.2.0",
            "_model_name": "LayoutModel",
            "_view_count": null,
            "_view_module": "@jupyter-widgets/base",
            "_view_module_version": "1.2.0",
            "_view_name": "LayoutView",
            "align_content": null,
            "align_items": null,
            "align_self": null,
            "border": null,
            "bottom": null,
            "display": null,
            "flex": null,
            "flex_flow": null,
            "grid_area": null,
            "grid_auto_columns": null,
            "grid_auto_flow": null,
            "grid_auto_rows": null,
            "grid_column": null,
            "grid_gap": null,
            "grid_row": null,
            "grid_template_areas": null,
            "grid_template_columns": null,
            "grid_template_rows": null,
            "height": null,
            "justify_content": null,
            "justify_items": null,
            "left": null,
            "margin": null,
            "max_height": null,
            "max_width": null,
            "min_height": null,
            "min_width": null,
            "object_fit": null,
            "object_position": null,
            "order": null,
            "overflow": null,
            "overflow_x": null,
            "overflow_y": null,
            "padding": null,
            "right": null,
            "top": null,
            "visibility": null,
            "width": null
          }
        },
        "9205d485beb14c689dc573f1e80c442f": {
          "model_module": "@jupyter-widgets/controls",
          "model_name": "DescriptionStyleModel",
          "model_module_version": "1.5.0",
          "state": {
            "_model_module": "@jupyter-widgets/controls",
            "_model_module_version": "1.5.0",
            "_model_name": "DescriptionStyleModel",
            "_view_count": null,
            "_view_module": "@jupyter-widgets/base",
            "_view_module_version": "1.2.0",
            "_view_name": "StyleView",
            "description_width": ""
          }
        },
        "fe63c4aacd05425cbe97a60f69607ab2": {
          "model_module": "@jupyter-widgets/controls",
          "model_name": "DatePickerModel",
          "model_module_version": "1.5.0",
          "state": {
            "_dom_classes": [],
            "_model_module": "@jupyter-widgets/controls",
            "_model_module_version": "1.5.0",
            "_model_name": "DatePickerModel",
            "_view_count": null,
            "_view_module": "@jupyter-widgets/controls",
            "_view_module_version": "1.5.0",
            "_view_name": "DatePickerView",
            "description": "Start Date:",
            "description_tooltip": null,
            "disabled": false,
            "layout": "IPY_MODEL_cf00522f3fd542a8896e5731a7d547d1",
            "style": "IPY_MODEL_11d6c731b3dc428eb043f2b0b8ebfcb4",
            "value": {
              "year": 2023,
              "month": 0,
              "date": 1
            }
          }
        },
        "264f11a7350640e393d3e2333624fc3c": {
          "model_module": "@jupyter-widgets/controls",
          "model_name": "DatePickerModel",
          "model_module_version": "1.5.0",
          "state": {
            "_dom_classes": [],
            "_model_module": "@jupyter-widgets/controls",
            "_model_module_version": "1.5.0",
            "_model_name": "DatePickerModel",
            "_view_count": null,
            "_view_module": "@jupyter-widgets/controls",
            "_view_module_version": "1.5.0",
            "_view_name": "DatePickerView",
            "description": "End Date:",
            "description_tooltip": null,
            "disabled": false,
            "layout": "IPY_MODEL_7622244cd8994e79b4388fcba5c197aa",
            "style": "IPY_MODEL_a96b8e24714e4a8b9afd616bbdb885c5",
            "value": {
              "year": 2023,
              "month": 11,
              "date": 31
            }
          }
        },
        "cd058884536840088279ba0fd3ba326f": {
          "model_module": "@jupyter-widgets/base",
          "model_name": "LayoutModel",
          "model_module_version": "1.2.0",
          "state": {
            "_model_module": "@jupyter-widgets/base",
            "_model_module_version": "1.2.0",
            "_model_name": "LayoutModel",
            "_view_count": null,
            "_view_module": "@jupyter-widgets/base",
            "_view_module_version": "1.2.0",
            "_view_name": "LayoutView",
            "align_content": null,
            "align_items": null,
            "align_self": null,
            "border": null,
            "bottom": null,
            "display": null,
            "flex": null,
            "flex_flow": null,
            "grid_area": null,
            "grid_auto_columns": null,
            "grid_auto_flow": null,
            "grid_auto_rows": null,
            "grid_column": null,
            "grid_gap": null,
            "grid_row": null,
            "grid_template_areas": null,
            "grid_template_columns": null,
            "grid_template_rows": null,
            "height": null,
            "justify_content": null,
            "justify_items": null,
            "left": null,
            "margin": null,
            "max_height": null,
            "max_width": null,
            "min_height": null,
            "min_width": null,
            "object_fit": null,
            "object_position": null,
            "order": null,
            "overflow": null,
            "overflow_x": null,
            "overflow_y": null,
            "padding": null,
            "right": null,
            "top": null,
            "visibility": null,
            "width": null
          }
        },
        "f6e2bc3e85104d0496fcaa7277578074": {
          "model_module": "@jupyter-widgets/base",
          "model_name": "LayoutModel",
          "model_module_version": "1.2.0",
          "state": {
            "_model_module": "@jupyter-widgets/base",
            "_model_module_version": "1.2.0",
            "_model_name": "LayoutModel",
            "_view_count": null,
            "_view_module": "@jupyter-widgets/base",
            "_view_module_version": "1.2.0",
            "_view_name": "LayoutView",
            "align_content": null,
            "align_items": null,
            "align_self": null,
            "border": null,
            "bottom": null,
            "display": null,
            "flex": null,
            "flex_flow": null,
            "grid_area": null,
            "grid_auto_columns": null,
            "grid_auto_flow": null,
            "grid_auto_rows": null,
            "grid_column": null,
            "grid_gap": null,
            "grid_row": null,
            "grid_template_areas": null,
            "grid_template_columns": null,
            "grid_template_rows": null,
            "height": null,
            "justify_content": null,
            "justify_items": null,
            "left": null,
            "margin": null,
            "max_height": null,
            "max_width": null,
            "min_height": null,
            "min_width": null,
            "object_fit": null,
            "object_position": null,
            "order": null,
            "overflow": null,
            "overflow_x": null,
            "overflow_y": null,
            "padding": null,
            "right": null,
            "top": null,
            "visibility": null,
            "width": null
          }
        },
        "077c76b7ca9e47ecb864ade67ef0367c": {
          "model_module": "@jupyter-widgets/controls",
          "model_name": "DescriptionStyleModel",
          "model_module_version": "1.5.0",
          "state": {
            "_model_module": "@jupyter-widgets/controls",
            "_model_module_version": "1.5.0",
            "_model_name": "DescriptionStyleModel",
            "_view_count": null,
            "_view_module": "@jupyter-widgets/base",
            "_view_module_version": "1.2.0",
            "_view_name": "StyleView",
            "description_width": ""
          }
        },
        "954ca0cab4b7472e8398e809df6a5cde": {
          "model_module": "@jupyter-widgets/base",
          "model_name": "LayoutModel",
          "model_module_version": "1.2.0",
          "state": {
            "_model_module": "@jupyter-widgets/base",
            "_model_module_version": "1.2.0",
            "_model_name": "LayoutModel",
            "_view_count": null,
            "_view_module": "@jupyter-widgets/base",
            "_view_module_version": "1.2.0",
            "_view_name": "LayoutView",
            "align_content": null,
            "align_items": null,
            "align_self": null,
            "border": null,
            "bottom": null,
            "display": null,
            "flex": null,
            "flex_flow": null,
            "grid_area": null,
            "grid_auto_columns": null,
            "grid_auto_flow": null,
            "grid_auto_rows": null,
            "grid_column": null,
            "grid_gap": null,
            "grid_row": null,
            "grid_template_areas": null,
            "grid_template_columns": null,
            "grid_template_rows": null,
            "height": null,
            "justify_content": null,
            "justify_items": null,
            "left": null,
            "margin": null,
            "max_height": null,
            "max_width": null,
            "min_height": null,
            "min_width": null,
            "object_fit": null,
            "object_position": null,
            "order": null,
            "overflow": null,
            "overflow_x": null,
            "overflow_y": null,
            "padding": null,
            "right": null,
            "top": null,
            "visibility": null,
            "width": null
          }
        },
        "3d3ec1619f6f43e990c1d77e90f29b12": {
          "model_module": "@jupyter-widgets/controls",
          "model_name": "ButtonStyleModel",
          "model_module_version": "1.5.0",
          "state": {
            "_model_module": "@jupyter-widgets/controls",
            "_model_module_version": "1.5.0",
            "_model_name": "ButtonStyleModel",
            "_view_count": null,
            "_view_module": "@jupyter-widgets/base",
            "_view_module_version": "1.2.0",
            "_view_name": "StyleView",
            "button_color": null,
            "font_weight": ""
          }
        },
        "cf00522f3fd542a8896e5731a7d547d1": {
          "model_module": "@jupyter-widgets/base",
          "model_name": "LayoutModel",
          "model_module_version": "1.2.0",
          "state": {
            "_model_module": "@jupyter-widgets/base",
            "_model_module_version": "1.2.0",
            "_model_name": "LayoutModel",
            "_view_count": null,
            "_view_module": "@jupyter-widgets/base",
            "_view_module_version": "1.2.0",
            "_view_name": "LayoutView",
            "align_content": null,
            "align_items": null,
            "align_self": null,
            "border": null,
            "bottom": null,
            "display": null,
            "flex": null,
            "flex_flow": null,
            "grid_area": null,
            "grid_auto_columns": null,
            "grid_auto_flow": null,
            "grid_auto_rows": null,
            "grid_column": null,
            "grid_gap": null,
            "grid_row": null,
            "grid_template_areas": null,
            "grid_template_columns": null,
            "grid_template_rows": null,
            "height": null,
            "justify_content": null,
            "justify_items": null,
            "left": null,
            "margin": null,
            "max_height": null,
            "max_width": null,
            "min_height": null,
            "min_width": null,
            "object_fit": null,
            "object_position": null,
            "order": null,
            "overflow": null,
            "overflow_x": null,
            "overflow_y": null,
            "padding": null,
            "right": null,
            "top": null,
            "visibility": null,
            "width": null
          }
        },
        "11d6c731b3dc428eb043f2b0b8ebfcb4": {
          "model_module": "@jupyter-widgets/controls",
          "model_name": "DescriptionStyleModel",
          "model_module_version": "1.5.0",
          "state": {
            "_model_module": "@jupyter-widgets/controls",
            "_model_module_version": "1.5.0",
            "_model_name": "DescriptionStyleModel",
            "_view_count": null,
            "_view_module": "@jupyter-widgets/base",
            "_view_module_version": "1.2.0",
            "_view_name": "StyleView",
            "description_width": ""
          }
        },
        "7622244cd8994e79b4388fcba5c197aa": {
          "model_module": "@jupyter-widgets/base",
          "model_name": "LayoutModel",
          "model_module_version": "1.2.0",
          "state": {
            "_model_module": "@jupyter-widgets/base",
            "_model_module_version": "1.2.0",
            "_model_name": "LayoutModel",
            "_view_count": null,
            "_view_module": "@jupyter-widgets/base",
            "_view_module_version": "1.2.0",
            "_view_name": "LayoutView",
            "align_content": null,
            "align_items": null,
            "align_self": null,
            "border": null,
            "bottom": null,
            "display": null,
            "flex": null,
            "flex_flow": null,
            "grid_area": null,
            "grid_auto_columns": null,
            "grid_auto_flow": null,
            "grid_auto_rows": null,
            "grid_column": null,
            "grid_gap": null,
            "grid_row": null,
            "grid_template_areas": null,
            "grid_template_columns": null,
            "grid_template_rows": null,
            "height": null,
            "justify_content": null,
            "justify_items": null,
            "left": null,
            "margin": null,
            "max_height": null,
            "max_width": null,
            "min_height": null,
            "min_width": null,
            "object_fit": null,
            "object_position": null,
            "order": null,
            "overflow": null,
            "overflow_x": null,
            "overflow_y": null,
            "padding": null,
            "right": null,
            "top": null,
            "visibility": null,
            "width": null
          }
        },
        "a96b8e24714e4a8b9afd616bbdb885c5": {
          "model_module": "@jupyter-widgets/controls",
          "model_name": "DescriptionStyleModel",
          "model_module_version": "1.5.0",
          "state": {
            "_model_module": "@jupyter-widgets/controls",
            "_model_module_version": "1.5.0",
            "_model_name": "DescriptionStyleModel",
            "_view_count": null,
            "_view_module": "@jupyter-widgets/base",
            "_view_module_version": "1.2.0",
            "_view_name": "StyleView",
            "description_width": ""
          }
        }
      }
    }
  },
  "cells": [
    {
      "cell_type": "markdown",
      "metadata": {
        "id": "view-in-github",
        "colab_type": "text"
      },
      "source": [
        "<a href=\"https://colab.research.google.com/github/lawrencejesse/Sentinel2_Extractor/blob/main/Sentinel2_RasterExtractor.ipynb\" target=\"_parent\"><img src=\"https://colab.research.google.com/assets/colab-badge.svg\" alt=\"Open In Colab\"/></a>"
      ]
    },
    {
      "cell_type": "code",
      "execution_count": null,
      "metadata": {
        "id": "02-n2ESK-jdH"
      },
      "outputs": [],
      "source": []
    },
    {
      "cell_type": "markdown",
      "metadata": {
        "id": "43fdf75a"
      },
      "source": [
        "## Packaging and Download\n",
        "\n",
        "### Subtask:\n",
        "Zip the exported GeoTIFFs in the `/content/exports` directory and provide a download link for the zip file."
      ]
    },
    {
      "cell_type": "markdown",
      "metadata": {
        "id": "08ae7542"
      },
      "source": [
        "**Reasoning**:\n",
        "Use the `zip` command to create a zip archive of the exported files and then provide a link to download the created zip file."
      ]
    },
    {
      "cell_type": "code",
      "metadata": {
        "id": "80674d8f"
      },
      "source": [
        "import os\n",
        "from google.colab import files\n",
        "\n",
        "def zip_and_download_exports():\n",
        "    export_dir = '/content/exports'\n",
        "    zip_filename = 'ndvi_exports.zip'\n",
        "    zip_filepath = f'/content/{zip_filename}'\n",
        "\n",
        "    if os.path.exists(export_dir) and os.listdir(export_dir):\n",
        "        # Create a zip archive of the exported files\n",
        "        !zip -r $zip_filepath $export_dir\n",
        "\n",
        "        # Provide a download link for the zip file\n",
        "        print(f\"Your files are ready for download. Click the link below to download {zip_filename}\")\n",
        "        files.download(zip_filepath)\n",
        "    else:\n",
        "        print(\"No files found in the export directory to zip.\")\n",
        "\n",
        "# You can call this function after the export tasks are complete and the files are in the /content/exports directory.\n",
        "# Note: Earth Engine exports to Drive are asynchronous. You'll need to wait for them to complete before zipping.\n",
        "# A more robust solution would involve monitoring the tasks, but for simplicity, you can manually run this cell after exports are finished."
      ],
      "execution_count": null,
      "outputs": []
    },
    {
      "cell_type": "markdown",
      "metadata": {
        "id": "08289e17"
      },
      "source": [
        "## Data Export\n",
        "\n",
        "### Subtask:\n",
        "Implement the export logic, including handling individual image export and optional mean NDVI export."
      ]
    },
    {
      "cell_type": "markdown",
      "metadata": {
        "id": "821d7867"
      },
      "source": [
        "**Reasoning**:\n",
        "Define a function `export_ndvi` that takes the processed collection, AOI, start date, end date, and the mean NDVI toggle status as input. Inside the function, check if the mean NDVI toggle is on. If so, compute the mean NDVI for the collection and export it. Otherwise, iterate through the collection and export each image individually, clipping to the AOI and using descriptive filenames."
      ]
    },
    {
      "cell_type": "code",
      "metadata": {
        "id": "9647dbca"
      },
      "source": [
        "import os\n",
        "import ee.batch\n",
        "\n",
        "def export_ndvi(processed_collection, aoi, start_date, end_date, export_mean=False):\n",
        "    \"\"\"\n",
        "    Exports the processed NDVI images as GeoTIFFs.\n",
        "\n",
        "    Args:\n",
        "        processed_collection (ee.ImageCollection): The processed Sentinel-2 image collection with NDVI.\n",
        "        aoi (ee.FeatureCollection or ee.Geometry): The area of interest.\n",
        "        start_date (str): The start date in 'YYYY-MM-DD' format.\n",
        "        end_date (str): The end date in 'YYYY-MM-DD' format.\n",
        "        export_mean (bool): Whether to export the mean NDVI for the date range.\n",
        "    \"\"\"\n",
        "    export_dir = '/content/exports'\n",
        "    if not os.path.exists(export_dir):\n",
        "        os.makedirs(export_dir)\n",
        "\n",
        "    if export_mean:\n",
        "        print(\"Exporting mean NDVI...\")\n",
        "        mean_ndvi_image = processed_collection.mean().clip(aoi)\n",
        "        filename = f'NDVI_Mean_{start_date.replace(\"-\", \"\")}_{end_date.replace(\"-\", \"\")}.tif'\n",
        "        task = ee.batch.Export.image.toDrive(\n",
        "            image=mean_ndvi_image,\n",
        "            description=filename,\n",
        "            folder='earth_engine_exports', # You can change this folder name in your Google Drive\n",
        "            fileNamePrefix=filename.replace('.tif', ''),\n",
        "            scale=10,\n",
        "            region=aoi.geometry(),\n",
        "            fileFormat='GeoTIFF',\n",
        "            crs='EPSG:4326'\n",
        "        )\n",
        "        task.start()\n",
        "        print(f\"Mean NDVI export task started: {task.id}\")\n",
        "    else:\n",
        "        print(\"Exporting individual NDVI images...\")\n",
        "        image_list = processed_collection.toList(processed_collection.size())\n",
        "\n",
        "        for i in range(image_list.size().getInfo()):\n",
        "            image = ee.Image(image_list.get(i)).clip(aoi)\n",
        "            image_date = ee.Image(image_list.get(i)).date().format('YYYYMMDD').getInfo()\n",
        "            filename = f'NDVI_{image_date}.tif' # AOINAME is not available, using date only\n",
        "            task = ee.batch.Export.image.toDrive(\n",
        "                image=image,\n",
        "                description=filename,\n",
        "                folder='earth_engine_exports', # You can change this folder name in your Google Drive\n",
        "                fileNamePrefix=filename.replace('.tif', ''),\n",
        "                scale=10,\n",
        "                region=aoi.geometry(),\n",
        "                fileFormat='GeoTIFF',\n",
        "                crs='EPSG:4326'\n",
        "            )\n",
        "            task.start()\n",
        "            print(f\"Export task for {filename} started: {task.id}\")"
      ],
      "execution_count": null,
      "outputs": []
    },
    {
      "cell_type": "markdown",
      "metadata": {
        "id": "d8763ab5"
      },
      "source": [
        "## Sentinel-2 Data Processing\n",
        "\n",
        "### Subtask:\n",
        "Define a function to build the Sentinel-2 collection, apply a cloud mask using the SCL band, and compute the NDVI."
      ]
    },
    {
      "cell_type": "markdown",
      "metadata": {
        "id": "ac839357"
      },
      "source": [
        "**Reasoning**:\n",
        "Define a function `process_sentinel2` that takes the AOI, start date, and end date as input. Inside the function, filter the Sentinel-2 collection by date and bounds, apply the cloud mask, and compute the NDVI."
      ]
    },
    {
      "cell_type": "code",
      "metadata": {
        "id": "6e2d21a4"
      },
      "source": [
        "def process_sentinel2(aoi, start_date, end_date):\n",
        "    \"\"\"\n",
        "    Builds the Sentinel-2 collection, applies cloud masking, and computes NDVI.\n",
        "\n",
        "    Args:\n",
        "        aoi (ee.FeatureCollection or ee.Geometry): The area of interest.\n",
        "        start_date (str): The start date in 'YYYY-MM-DD' format.\n",
        "        end_date (str): The end date in 'YYYY-MM-DD' format.\n",
        "\n",
        "    Returns:\n",
        "        ee.ImageCollection: The processed Sentinel-2 image collection with NDVI and original bands.\n",
        "    \"\"\"\n",
        "    print(f\"Processing Sentinel-2 for AOI, dates: {start_date} to {end_date}\") # Debug print\n",
        "    # Filter Sentinel-2 SR Harmonized collection by date and bounds\n",
        "    collection = ee.ImageCollection('COPERNICUS/S2_SR_HARMONIZED') \\\n",
        "        .filterDate(start_date, end_date) \\\n",
        "        .filterBounds(aoi)\n",
        "\n",
        "    print(f\"Initial collection size: {collection.size().getInfo()}\") # Debug print\n",
        "\n",
        "    # Function to mask clouds using the Sentinel-2 SCL band\n",
        "    def mask_clouds(image):\n",
        "        scl = image.select('SCL')\n",
        "        # These are the pixel values for clouds, cloud shadows, and snow.\n",
        "        cloud_mask = scl.neq(3).And(scl.neq(8)).And(scl.neq(9)).And(scl.neq(10)).And(scl.neq(11))\n",
        "        return image.updateMask(cloud_mask)\n",
        "\n",
        "    # Apply cloud mask and compute NDVI\n",
        "    def compute_ndvi(image):\n",
        "        # Scale reflectance bands\n",
        "        scaled_image = image.select(['B4', 'B8']).multiply(0.0001)\n",
        "        ndvi = scaled_image.normalizedDifference(['B8', 'B4']).rename('NDVI')\n",
        "        # Add the NDVI band to the original image\n",
        "        return image.addBands(ndvi)\n",
        "\n",
        "    # Apply cloud mask and compute NDVI, keeping all bands\n",
        "    processed_collection = collection.map(mask_clouds).map(compute_ndvi)\n",
        "\n",
        "    print(f\"Processed collection size (after masking and NDVI): {processed_collection.size().getInfo()}\") # Debug print\n",
        "\n",
        "    # Return the collection with all bands (including NDVI)\n",
        "    return processed_collection"
      ],
      "execution_count": null,
      "outputs": []
    },
    {
      "cell_type": "markdown",
      "metadata": {
        "id": "2d1bbf69"
      },
      "source": [
        "# Task\n",
        "Build a Google Colab notebook in Python that allows users to upload a polygon file (KML, GeoJSON, or zipped Shapefile), parse it as an AOI in WGS84, preview the AOI on a map, select a date range using widgets, download cloud-masked Sentinel-2 NDVI GeoTIFFs for the AOI and date range (clipped to AOI if possible), save them with descriptive filenames to `/content/exports`, zip the files, and provide a download link. Include an optional toggle to export a single mean NDVI for the date range. The notebook should use `earthengine-api`, `geemap`, and `ipywidgets`, authenticate with Earth Engine, use Sentinel-2 SR Harmonized (COPERNICUS/S2_SR_HARMONIZED) with SCL cloud masking, compute NDVI after scaling reflectance by 0.0001, and output GeoTIFFs at 10m scale in EPSG:4326."
      ]
    },
    {
      "cell_type": "markdown",
      "metadata": {
        "id": "2b685fb7"
      },
      "source": [
        "## Setup and authentication\n",
        "\n",
        "### Subtask:\n",
        "Install necessary libraries (`earthengine-api`, `geemap`, `ipywidgets`), authenticate with Earth Engine, and initialize it.\n"
      ]
    },
    {
      "cell_type": "markdown",
      "metadata": {
        "id": "8ea63e55"
      },
      "source": [
        "**Reasoning**:\n",
        "Install the necessary libraries using pip.\n",
        "\n"
      ]
    },
    {
      "cell_type": "code",
      "metadata": {
        "colab": {
          "base_uri": "https://localhost:8080/"
        },
        "id": "bd1cf86b",
        "outputId": "d09d098c-f8dd-4916-ea2f-ff323dbaeb34"
      },
      "source": [
        "%pip install -U -q earthengine-api geemap ipywidgets"
      ],
      "execution_count": null,
      "outputs": [
        {
          "output_type": "stream",
          "name": "stdout",
          "text": [
            "\u001b[?25l   \u001b[90m━━━━━━━━━━━━━━━━━━━━━━━━━━━━━━━━━━━━━━━━\u001b[0m \u001b[32m0.0/463.2 kB\u001b[0m \u001b[31m?\u001b[0m eta \u001b[36m-:--:--\u001b[0m\r\u001b[2K   \u001b[90m━━━━━━━━━━━━━━━━━━━━━━━━━━━━━━━━━━━━━━━━\u001b[0m \u001b[32m463.2/463.2 kB\u001b[0m \u001b[31m14.9 MB/s\u001b[0m eta \u001b[36m0:00:00\u001b[0m\n",
            "\u001b[?25h\u001b[?25l   \u001b[90m━━━━━━━━━━━━━━━━━━━━━━━━━━━━━━━━━━━━━━━━\u001b[0m \u001b[32m0.0/631.3 kB\u001b[0m \u001b[31m?\u001b[0m eta \u001b[36m-:--:--\u001b[0m\r\u001b[2K   \u001b[90m━━━━━━━━━━━━━━━━━━━━━━━━━━━━━━━━━━━━━━━━\u001b[0m \u001b[32m631.3/631.3 kB\u001b[0m \u001b[31m34.9 MB/s\u001b[0m eta \u001b[36m0:00:00\u001b[0m\n",
            "\u001b[2K   \u001b[90m━━━━━━━━━━━━━━━━━━━━━━━━━━━━━━━━━━━━━━━━\u001b[0m \u001b[32m139.8/139.8 kB\u001b[0m \u001b[31m10.9 MB/s\u001b[0m eta \u001b[36m0:00:00\u001b[0m\n",
            "\u001b[2K   \u001b[90m━━━━━━━━━━━━━━━━━━━━━━━━━━━━━━━━━━━━━━━━\u001b[0m \u001b[32m2.2/2.2 MB\u001b[0m \u001b[31m79.1 MB/s\u001b[0m eta \u001b[36m0:00:00\u001b[0m\n",
            "\u001b[2K   \u001b[90m━━━━━━━━━━━━━━━━━━━━━━━━━━━━━━━━━━━━━━━━\u001b[0m \u001b[32m1.6/1.6 MB\u001b[0m \u001b[31m68.3 MB/s\u001b[0m eta \u001b[36m0:00:00\u001b[0m\n",
            "\u001b[?25h"
          ]
        }
      ]
    },
    {
      "cell_type": "markdown",
      "metadata": {
        "id": "c15d5d0c"
      },
      "source": [
        "**Reasoning**:\n",
        "Authenticate and initialize Earth Engine.\n",
        "\n"
      ]
    },
    {
      "cell_type": "code",
      "metadata": {
        "colab": {
          "base_uri": "https://localhost:8080/"
        },
        "id": "f8bb092f",
        "outputId": "51dc5d0c-3319-459f-d5cd-337ec6054546"
      },
      "source": [
        "import ee\n",
        "\n",
        "try:\n",
        "    ee.Initialize()\n",
        "    print('Google Earth Engine has been successfully initialized.')\n",
        "except Exception as e:\n",
        "    print(f'Failed to initialize Google Earth Engine: {e}')\n",
        "    print('Please authenticate with Google Earth Engine by running ee.Authenticate() in a separate cell.')\n"
      ],
      "execution_count": null,
      "outputs": [
        {
          "output_type": "stream",
          "name": "stdout",
          "text": [
            "Failed to initialize Google Earth Engine: Please authorize access to your Earth Engine account by running\n",
            "\n",
            "earthengine authenticate\n",
            "\n",
            "in your command line, or ee.Authenticate() in Python, and then retry.\n",
            "Please authenticate with Google Earth Engine by running ee.Authenticate() in a separate cell.\n"
          ]
        }
      ]
    },
    {
      "cell_type": "markdown",
      "metadata": {
        "id": "04d93467"
      },
      "source": [
        "**Reasoning**:\n",
        "Authenticate Earth Engine as instructed by the error message.\n",
        "\n"
      ]
    },
    {
      "cell_type": "code",
      "metadata": {
        "id": "b241cb61"
      },
      "source": [
        "ee.Authenticate()"
      ],
      "execution_count": null,
      "outputs": []
    },
    {
      "cell_type": "markdown",
      "metadata": {
        "id": "7d493b8e"
      },
      "source": [
        "**Reasoning**:\n",
        "Re-initialize Earth Engine after successful authentication.\n",
        "\n"
      ]
    },
    {
      "cell_type": "code",
      "metadata": {
        "colab": {
          "base_uri": "https://localhost:8080/"
        },
        "id": "9e182db2",
        "outputId": "c7275478-9966-4748-e08f-be9e501354a3"
      },
      "source": [
        "try:\n",
        "    ee.Initialize()\n",
        "    print('Google Earth Engine has been successfully initialized after authentication.')\n",
        "except Exception as e:\n",
        "    print(f'Failed to initialize Google Earth Engine after authentication: {e}')"
      ],
      "execution_count": null,
      "outputs": [
        {
          "output_type": "stream",
          "name": "stdout",
          "text": [
            "Failed to initialize Google Earth Engine after authentication: ee.Initialize: no project found. Call with project= or see http://goo.gle/ee-auth.\n"
          ]
        }
      ]
    },
    {
      "cell_type": "markdown",
      "metadata": {
        "id": "3594209b"
      },
      "source": [
        "**Reasoning**:\n",
        "Re-initialize Earth Engine with a project ID as instructed by the error message.\n",
        "\n"
      ]
    },
    {
      "cell_type": "code",
      "metadata": {
        "colab": {
          "base_uri": "https://localhost:8080/"
        },
        "id": "ecf2b859",
        "outputId": "e992a526-e1c7-4c61-a5b6-03f56a0b0e50"
      },
      "source": [
        "try:\n",
        "    ee.Initialize(project='jessemapping')\n",
        "    print('Google Earth Engine has been successfully initialized with a project.')\n",
        "except Exception as e:\n",
        "    print(f'Failed to initialize Google Earth Engine with a project: {e}')"
      ],
      "execution_count": null,
      "outputs": [
        {
          "output_type": "stream",
          "name": "stdout",
          "text": [
            "Google Earth Engine has been successfully initialized with a project.\n"
          ]
        },
        {
          "output_type": "stream",
          "name": "stderr",
          "text": [
            "*** Earth Engine *** Share your feedback by taking our Annual Developer Satisfaction Survey: https://google.qualtrics.com/jfe/form/SV_7TDKVSyKvBdmMqW?ref=4i2o6\n"
          ]
        }
      ]
    },
    {
      "cell_type": "markdown",
      "metadata": {
        "id": "0e9b45d9"
      },
      "source": [
        "## Aoi upload and visualization\n",
        "\n",
        "### Subtask:\n",
        "Create functionality to upload a polygon file (KML, GeoJSON, or zipped Shapefile), parse it as an Earth Engine feature collection in WGS84, and display it on an interactive map using `geemap` with a satellite basemap, ensuring it's centered and visible.\n"
      ]
    },
    {
      "cell_type": "markdown",
      "metadata": {
        "id": "413b1099"
      },
      "source": [
        "**Reasoning**:\n",
        "Import necessary libraries and create a file upload widget.\n",
        "\n"
      ]
    },
    {
      "cell_type": "code",
      "metadata": {
        "colab": {
          "base_uri": "https://localhost:8080/",
          "height": 49,
          "referenced_widgets": [
            "6070506b27f54e28838b347a7888a601",
            "653a6e435679468082f2d599cc1c25f8",
            "3dc3c51a00ff4cda8b143b6a104c056e"
          ]
        },
        "id": "b61aff89",
        "outputId": "f84c36d2-2ca9-4d3c-eb16-44867d4d0022"
      },
      "source": [
        "import ipywidgets as widgets\n",
        "import geemap\n",
        "import os\n",
        "\n",
        "# Global variable to store the AOI name\n",
        "aoi_name_global = None\n",
        "\n",
        "# Define the handle_upload function here\n",
        "def handle_upload(change):\n",
        "    print(\"handle_upload function triggered.\") # Debug print\n",
        "    uploaded_file = upload_widget.value[0]\n",
        "    file_name = uploaded_file['name']\n",
        "    file_content = uploaded_file['content']\n",
        "\n",
        "    global aoi # Declare aoi as global\n",
        "    global aoi_name_global # Declare aoi_name_global as global\n",
        "    aoi = None # Reset aoi\n",
        "    aoi_name_global = None # Reset aoi name\n",
        "    print(f\"Processing file: {file_name}\") # Debug print\n",
        "\n",
        "    try:\n",
        "        # Store the AOI name (cleaned filename without extension)\n",
        "        aoi_name_global = os.path.splitext(file_name)[0]\n",
        "        # Replace spaces and special characters if needed for a valid filename\n",
        "        aoi_name_global = aoi_name_global.replace(\" \", \"_\").replace(\"-\", \"_\") # Example cleaning\n",
        "\n",
        "        if file_name.endswith('.kml'):\n",
        "            # Save content to a temporary KML file\n",
        "            with open(file_name, 'wb') as f:\n",
        "                f.write(file_content)\n",
        "            aoi = geemap.kml_to_ee(file_name)\n",
        "            os.remove(file_name) # Clean up temporary file\n",
        "        elif file_name.endswith('.geojson'):\n",
        "            # Save content to a temporary GeoJSON file\n",
        "            with open(file_name, 'wb') as f:\n",
        "                f.write(file_content)\n",
        "            aoi = geemap.geojson_to_ee(file_name)\n",
        "            os.remove(file_name) # Clean up temporary file\n",
        "        elif file_name.endswith('.zip'):\n",
        "            # Save content to a temporary zip file\n",
        "            with open(file_name, 'wb') as f:\n",
        "                f.write(file_content)\n",
        "            aoi = geemap.shp_to_ee(file_name)\n",
        "            os.remove(file_name) # Clean up temporary file\n",
        "        else:\n",
        "            print(\"Unsupported file type.\")\n",
        "            aoi_name_global = None # Reset if unsupported\n",
        "            return\n",
        "\n",
        "        if aoi:\n",
        "            # Ensure the AOI is in WGS84 (EPSG:4326) with a non-zero error margin\n",
        "            aoi = aoi.geometry().transform('EPSG:4326', 1) # Added maxError=1\n",
        "            print(\"AOI uploaded and processed successfully.\") # Debug print\n",
        "            if aoi_name_global:\n",
        "                print(f\"AOI Name: {aoi_name_global}\")\n",
        "            print(\"Run the next cell to display the map.\")\n",
        "        else:\n",
        "            print(\"Failed to process the uploaded file: AOI is None.\") # Debug print\n",
        "            aoi_name_global = None # Reset if processing fails\n",
        "\n",
        "    except Exception as e:\n",
        "        print(f\"An error occurred during file processing: {e}\") # Debug print\n",
        "        aoi = None # Ensure aoi is None if processing fails\n",
        "        aoi_name_global = None # Reset if processing fails\n",
        "\n",
        "\n",
        "upload_widget = widgets.FileUpload(\n",
        "    accept='.kml,.geojson,.zip',\n",
        "    multiple=False\n",
        ")\n",
        "\n",
        "display(upload_widget)\n",
        "\n",
        "# Attach the observer to the widget\n",
        "upload_widget.observe(handle_upload, names='value')"
      ],
      "execution_count": null,
      "outputs": [
        {
          "output_type": "display_data",
          "data": {
            "text/plain": [
              "FileUpload(value={}, accept='.kml,.geojson,.zip', description='Upload')"
            ],
            "application/vnd.jupyter.widget-view+json": {
              "version_major": 2,
              "version_minor": 0,
              "model_id": "6070506b27f54e28838b347a7888a601"
            }
          },
          "metadata": {
            "application/vnd.jupyter.widget-view+json": {
              "colab": {
                "custom_widget_manager": {
                  "url": "https://ssl.gstatic.com/colaboratory-static/widgets/colab-cdn-widget-manager/2b70e893a8ba7c0f/manager.min.js"
                }
              }
            }
          }
        }
      ]
    },
    {
      "cell_type": "markdown",
      "metadata": {
        "id": "0dbd7800"
      },
      "source": [
        "**Reasoning**:\n",
        "Define the function to handle file uploads, parse the file as an Earth Engine feature collection, and display it on a map.\n",
        "\n"
      ]
    },
    {
      "cell_type": "markdown",
      "metadata": {
        "id": "355b1cb7"
      },
      "source": [
        "**Reasoning**:\n",
        "Add a new cell to display the map with the uploaded AOI after the file has been processed by the `handle_upload` function."
      ]
    },
    {
      "cell_type": "code",
      "metadata": {
        "colab": {
          "base_uri": "https://localhost:8080/",
          "height": 34
        },
        "id": "07700b31",
        "outputId": "5207e73d-a819-4632-db97-2548b9747a7b"
      },
      "source": [
        "# Display the AOI on a map after upload\n",
        "if 'aoi' in globals() and aoi is not None:\n",
        "    m = geemap.Map(basemap='SATELLITE')\n",
        "    m.addLayer(ee.FeatureCollection(aoi), {}, 'Uploaded AOI')\n",
        "    m.centerObject(aoi)\n",
        "    display(m)\n",
        "else:\n",
        "    print(\"Please upload an AOI using the widget above first.\")"
      ],
      "execution_count": null,
      "outputs": [
        {
          "output_type": "display_data",
          "data": {
            "text/plain": [
              "<IPython.core.display.HTML object>"
            ],
            "text/html": [
              "\n",
              "            <style>\n",
              "                .geemap-dark {\n",
              "                    --jp-widgets-color: white;\n",
              "                    --jp-widgets-label-color: white;\n",
              "                    --jp-ui-font-color1: white;\n",
              "                    --jp-layout-color2: #454545;\n",
              "                    background-color: #383838;\n",
              "                }\n",
              "\n",
              "                .geemap-dark .jupyter-button {\n",
              "                    --jp-layout-color3: #383838;\n",
              "                }\n",
              "\n",
              "                .geemap-colab {\n",
              "                    background-color: var(--colab-primary-surface-color, white);\n",
              "                }\n",
              "\n",
              "                .geemap-colab .jupyter-button {\n",
              "                    --jp-layout-color3: var(--colab-primary-surface-color, white);\n",
              "                }\n",
              "            </style>\n",
              "            "
            ]
          },
          "metadata": {}
        },
        {
          "output_type": "stream",
          "name": "stdout",
          "text": [
            "Please upload an AOI using the widget above first.\n"
          ]
        }
      ]
    },
    {
      "cell_type": "markdown",
      "metadata": {
        "id": "6d44950b"
      },
      "source": [
        "## Interactive widgets for date and export\n",
        "\n",
        "### Subtask:\n",
        "Add `ipywidgets` for selecting a start and end date and a button to trigger the data export process. Include a toggle for exporting the mean NDVI.\n"
      ]
    },
    {
      "cell_type": "code",
      "metadata": {
        "colab": {
          "base_uri": "https://localhost:8080/",
          "height": 17
        },
        "id": "32222955",
        "outputId": "f7715f15-0e9c-45c6-ffbf-05c7ff31f932"
      },
      "source": [
        "from datetime import datetime\n",
        "import ipywidgets as widgets\n",
        "from IPython.display import display, clear_output\n",
        "import ee\n",
        "import ee.batch\n",
        "import os\n",
        "\n",
        "# Global variables used by functions in cell 8e6c47aa\n",
        "# available_dates_dict = {}\n",
        "# processed_collection_global = None\n",
        "\n",
        "# The get_available_dates function and the on_click binding for get_dates_button\n",
        "# have been moved to cell 8e6c47aa for better organization.\n",
        "\n",
        "# This cell can now be used for other imports or definitions if needed,\n",
        "# or it can be left with just necessary imports and global variable declarations.\n",
        "# The core logic for date selection widgets and button interaction is now in cell 8e6c47aa.\n",
        "\n",
        "# Note: The process_sentinel2 function is assumed to be defined in another cell (e.g., cell 6e2d21a4).\n",
        "# Ensure that cell is run before running cell 8e6c47aa."
      ],
      "execution_count": null,
      "outputs": [
        {
          "output_type": "display_data",
          "data": {
            "text/plain": [
              "<IPython.core.display.HTML object>"
            ],
            "text/html": [
              "\n",
              "            <style>\n",
              "                .geemap-dark {\n",
              "                    --jp-widgets-color: white;\n",
              "                    --jp-widgets-label-color: white;\n",
              "                    --jp-ui-font-color1: white;\n",
              "                    --jp-layout-color2: #454545;\n",
              "                    background-color: #383838;\n",
              "                }\n",
              "\n",
              "                .geemap-dark .jupyter-button {\n",
              "                    --jp-layout-color3: #383838;\n",
              "                }\n",
              "\n",
              "                .geemap-colab {\n",
              "                    background-color: var(--colab-primary-surface-color, white);\n",
              "                }\n",
              "\n",
              "                .geemap-colab .jupyter-button {\n",
              "                    --jp-layout-color3: var(--colab-primary-surface-color, white);\n",
              "                }\n",
              "            </style>\n",
              "            "
            ]
          },
          "metadata": {}
        }
      ]
    },
    {
      "cell_type": "markdown",
      "metadata": {
        "id": "8d654b38"
      },
      "source": [
        "**Reasoning**:\n",
        "Create and display the date picker widgets, the mean NDVI checkbox, and the export button as specified in the instructions.\n",
        "\n"
      ]
    },
    {
      "cell_type": "code",
      "metadata": {
        "colab": {
          "base_uri": "https://localhost:8080/",
          "height": 162,
          "referenced_widgets": [
            "fb30a7c0394f4a45a51ebe304ee8be0f",
            "64456189eb3a480f8b4c9fa65cf37b58",
            "106ab136185343adb5ee06f43849807d",
            "0016337f9d324b6590fc22f15ad7aba3",
            "b6bd6c3e5a774da6b10c5163621a8f56",
            "90e2a85c34fe4a54af956b7b2a288c16",
            "ac1d7721d9854d46bdf91e42bae1e29c",
            "9205d485beb14c689dc573f1e80c442f",
            "fe63c4aacd05425cbe97a60f69607ab2",
            "264f11a7350640e393d3e2333624fc3c",
            "cd058884536840088279ba0fd3ba326f",
            "f6e2bc3e85104d0496fcaa7277578074",
            "077c76b7ca9e47ecb864ade67ef0367c",
            "954ca0cab4b7472e8398e809df6a5cde",
            "3d3ec1619f6f43e990c1d77e90f29b12",
            "cf00522f3fd542a8896e5731a7d547d1",
            "11d6c731b3dc428eb043f2b0b8ebfcb4",
            "7622244cd8994e79b4388fcba5c197aa",
            "a96b8e24714e4a8b9afd616bbdb885c5"
          ]
        },
        "id": "8e6c47aa",
        "outputId": "3e2bbe54-5252-4026-a0bd-5b7af5ec3eef"
      },
      "source": [
        "# --- Colab / ipywidgets friendly UI for S2 date picking + NDVI/RGB exports ---\n",
        "\n",
        "from datetime import datetime\n",
        "import ipywidgets as widgets\n",
        "from IPython.display import display\n",
        "import ee, ee.batch\n",
        "\n",
        "# (Colab) Make sure custom widget manager is enabled\n",
        "try:\n",
        "    from google.colab import output as _colab_output\n",
        "    _colab_output.enable_custom_widget_manager()\n",
        "except Exception:\n",
        "    pass\n",
        "\n",
        "# -----------------------\n",
        "# Globals used across UI\n",
        "# -----------------------\n",
        "available_dates_dict = {}\n",
        "processed_collection_global = None\n",
        "\n",
        "# If your notebook set these earlier, they will be used here.\n",
        "# aoi: ee.Geometry/Feature/FeatureCollection (required)\n",
        "# aoi_name_global: str, optional nickname for filenames\n",
        "\n",
        "# -----------------------\n",
        "# UI callbacks and logic\n",
        "# -----------------------\n",
        "def get_available_dates(_):\n",
        "    \"\"\"\n",
        "    Finds cloud-free S2 images between chosen dates (using your process_sentinel2),\n",
        "    stores them globally, and renders the date-selection/export panel.\n",
        "    \"\"\"\n",
        "    global available_dates_dict, processed_collection_global\n",
        "\n",
        "    if 'aoi' not in globals() or aoi is None:\n",
        "        print(\"Please upload/define an AOI first.\")\n",
        "        return\n",
        "\n",
        "    start_date_str = start_date_widget.value.strftime('%Y-%m-%d')\n",
        "    end_date_str   = end_date_widget.value.strftime('%Y-%m-%d')\n",
        "\n",
        "    # process_sentinel2(aoi, start_date_str, end_date_str) must return an ImageCollection\n",
        "    # with NDVI already added (band name 'NDVI') and standard S2 bands (B2..B12).\n",
        "    processed_collection_global = process_sentinel2(aoi, start_date_str, end_date_str)\n",
        "\n",
        "    # Pull system:time_start and show human-readable dates\n",
        "    try:\n",
        "        info_list = processed_collection_global.toList(\n",
        "            processed_collection_global.size()\n",
        "        ).getInfo()\n",
        "\n",
        "        # map date_str -> time_start_millis\n",
        "        tmp = {}\n",
        "        for img_info in info_list:\n",
        "            ts_ms = img_info['properties']['system:time_start']\n",
        "            date_str = datetime.utcfromtimestamp(ts_ms / 1000).strftime('%Y-%m-%d')\n",
        "            tmp[date_str] = ts_ms\n",
        "\n",
        "        # sort by date\n",
        "        ordered_dates = sorted(tmp.keys())\n",
        "        available_dates_dict = {d: tmp[d] for d in ordered_dates}\n",
        "\n",
        "    except Exception as e:\n",
        "        print(f\"Error reading collection dates: {e}\")\n",
        "        available_dates_dict = {}\n",
        "\n",
        "    if available_dates_dict:\n",
        "        display_date_selection_widgets()\n",
        "    else:\n",
        "        print(\"No cloud-free images found for the selected range and AOI.\")\n",
        "\n",
        "def display_date_selection_widgets():\n",
        "    \"\"\"\n",
        "    Renders one clean VBox panel so Colab doesn't bury controls.\n",
        "    \"\"\"\n",
        "    global date_selector, export_button, output_folder_widget, export_rgb_toggle\n",
        "\n",
        "    date_selector = widgets.SelectMultiple(\n",
        "        options=list(available_dates_dict.keys()),\n",
        "        description='Select Dates:',\n",
        "        rows=min(10, max(1, len(available_dates_dict))),\n",
        "        layout=widgets.Layout(width='50%')\n",
        "    )\n",
        "\n",
        "    output_folder_widget = widgets.Text(\n",
        "        value='earth_engine_exports',\n",
        "        description='Output Folder:',\n",
        "        layout=widgets.Layout(width='50%')\n",
        "    )\n",
        "\n",
        "    export_rgb_toggle = widgets.Checkbox(\n",
        "        value=False,\n",
        "        description='Also export RGB (B4,B3,B2) for each selected date',\n",
        "        indent=False\n",
        "    )\n",
        "\n",
        "    export_button = widgets.Button(\n",
        "        description='Start Export',\n",
        "        button_style='success',\n",
        "        tooltip='Export NDVI (and RGB if toggled)',\n",
        "        icon='download'\n",
        "    )\n",
        "    export_button.on_click(on_export_button_clicked)\n",
        "\n",
        "    export_panel = widgets.VBox([\n",
        "        widgets.HTML(\"<b>Step 2: Pick dates and export</b>\"),\n",
        "        date_selector,\n",
        "        output_folder_widget,\n",
        "        export_rgb_toggle,\n",
        "        export_button\n",
        "    ])\n",
        "\n",
        "    display(export_panel)\n",
        "\n",
        "def on_export_button_clicked(_):\n",
        "    \"\"\"\n",
        "    Exports either:\n",
        "      - Mean NDVI across the date range (if 'Export Mean NDVI Only' is on), OR\n",
        "      - Per-date NDVI (and optional RGB) for selected dates.\n",
        "    \"\"\"\n",
        "    global processed_collection_global, available_dates_dict\n",
        "\n",
        "    if 'aoi' not in globals() or aoi is None:\n",
        "        print(\"Please upload/define an AOI first.\")\n",
        "        return\n",
        "    if processed_collection_global is None:\n",
        "        print(\"Please click 'Get Available Dates' first.\")\n",
        "        return\n",
        "\n",
        "    selected_dates = list(date_selector.value) if 'date_selector' in globals() else []\n",
        "    export_mean = mean_ndvi_toggle.value\n",
        "    export_rgb  = export_rgb_toggle.value if 'export_rgb_toggle' in globals() else False\n",
        "    output_folder = output_folder_widget.value if 'output_folder_widget' in globals() else 'earth_engine_exports'\n",
        "\n",
        "    aoi_name = (aoi_name_global if 'aoi_name_global' in globals() and aoi_name_global\n",
        "                else \"AOI\")\n",
        "\n",
        "    # If no dates chosen and mean not requested, stop\n",
        "    if not selected_dates and not export_mean:\n",
        "        print(\"Please select at least one date or enable 'Export Mean NDVI Only'.\")\n",
        "        return\n",
        "\n",
        "    # Mean NDVI branch\n",
        "    if export_mean:\n",
        "        if export_rgb:\n",
        "            print(\"Note: RGB export is not applicable to Mean NDVI. Exporting Mean NDVI only.\")\n",
        "        print(\"Exporting Mean NDVI...\")\n",
        "        mean_img = processed_collection_global.select('NDVI').mean().clip(aoi)\n",
        "        start_date_str = start_date_widget.value.strftime('%Y-%m-%d')\n",
        "        end_date_str   = end_date_widget.value.strftime('%Y-%m-%d')\n",
        "        fname = f'{aoi_name}_NDVI_Mean_{start_date_str}_{end_date_str}.tif'\n",
        "\n",
        "        task = ee.batch.Export.image.toDrive(\n",
        "            image=mean_img,\n",
        "            description=fname,\n",
        "            folder=output_folder,\n",
        "            fileNamePrefix=fname.replace('.tif', ''),\n",
        "            scale=10,\n",
        "            region=aoi,\n",
        "            fileFormat='GeoTIFF',\n",
        "            crs='EPSG:4326'\n",
        "        )\n",
        "        task.start()\n",
        "        print(f\"Mean NDVI export started: {task.id}\")\n",
        "        return\n",
        "\n",
        "    # Per-date exports branch\n",
        "    print(\"Exporting selected per-date images...\")\n",
        "    selected_ts = [available_dates_dict[d] for d in selected_dates if d in available_dates_dict]\n",
        "    sel_coll = processed_collection_global.filter(ee.Filter.inList('system:time_start', selected_ts))\n",
        "\n",
        "    size = sel_coll.size().getInfo()\n",
        "    print(f\"Selected collection has {size} image(s).\")\n",
        "    if size == 0:\n",
        "        print(\"No images matched the selected dates.\")\n",
        "        return\n",
        "\n",
        "    imgs = sel_coll.toList(size)\n",
        "    for i in range(size):\n",
        "        img = ee.Image(imgs.get(i)).clip(aoi)\n",
        "        date_str = ee.Image(imgs.get(i)).date().format('YYYY-MM-dd').getInfo()\n",
        "\n",
        "        # NDVI export\n",
        "        ndvi = img.select('NDVI')\n",
        "        ndvi_name = f'{aoi_name}_NDVI_{date_str}.tif'\n",
        "        t_ndvi = ee.batch.Export.image.toDrive(\n",
        "            image=ndvi,\n",
        "            description=ndvi_name,\n",
        "            folder=output_folder,\n",
        "            fileNamePrefix=ndvi_name.replace('.tif', ''),\n",
        "            scale=10,\n",
        "            region=aoi,\n",
        "            fileFormat='GeoTIFF',\n",
        "            crs='EPSG:4326'\n",
        "        )\n",
        "        t_ndvi.start()\n",
        "        print(f\"NDVI export started: {ndvi_name} -> task {t_ndvi.id}\")\n",
        "\n",
        "        # Optional RGB export (B4,B3,B2)\n",
        "        if export_rgb:\n",
        "            rgb = img.select(['B4', 'B3', 'B2'])\n",
        "            rgb_name = f'{aoi_name}_RGB_{date_str}.tif'\n",
        "            t_rgb = ee.batch.Export.image.toDrive(\n",
        "                image=rgb,\n",
        "                description=rgb_name,\n",
        "                folder=output_folder,\n",
        "                fileNamePrefix=rgb_name.replace('.tif', ''),\n",
        "                scale=10,\n",
        "                region=aoi,\n",
        "                fileFormat='GeoTIFF',\n",
        "                crs='EPSG:4326'\n",
        "            )\n",
        "            t_rgb.start()\n",
        "            print(f\"RGB export started: {rgb_name} -> task {t_rgb.id}\")\n",
        "\n",
        "# -----------------------\n",
        "# Initial controls panel\n",
        "# -----------------------\n",
        "start_date_widget = widgets.DatePicker(description='Start Date:', value=datetime(2023, 1, 1))\n",
        "end_date_widget   = widgets.DatePicker(description='End Date:',   value=datetime(2023, 12, 31))\n",
        "\n",
        "mean_ndvi_toggle = widgets.Checkbox(\n",
        "    value=False,\n",
        "    description='Export Mean NDVI Only',\n",
        "    indent=False\n",
        ")\n",
        "\n",
        "get_dates_button = widgets.Button(\n",
        "    description='Get Available Dates',\n",
        "    button_style='info',\n",
        "    tooltip='Find available cloud-free dates',\n",
        "    icon='search'\n",
        ")\n",
        "get_dates_button.on_click(get_available_dates)\n",
        "\n",
        "initial_panel = widgets.VBox([\n",
        "    widgets.HTML(\"<b>Step 1: Choose dates and (optionally) Mean NDVI</b>\"),\n",
        "    widgets.HBox([start_date_widget, end_date_widget]),\n",
        "    mean_ndvi_toggle,\n",
        "    get_dates_button\n",
        "])\n",
        "display(initial_panel)\n"
      ],
      "execution_count": null,
      "outputs": [
        {
          "output_type": "display_data",
          "data": {
            "text/plain": [
              "VBox(children=(HTML(value='<b>Step 1: Choose dates and (optionally) Mean NDVI</b>'), HBox(children=(DatePicker…"
            ],
            "application/vnd.jupyter.widget-view+json": {
              "version_major": 2,
              "version_minor": 0,
              "model_id": "fb30a7c0394f4a45a51ebe304ee8be0f"
            }
          },
          "metadata": {
            "application/vnd.jupyter.widget-view+json": {
              "colab": {
                "custom_widget_manager": {
                  "url": "https://ssl.gstatic.com/colaboratory-static/widgets/colab-cdn-widget-manager/2b70e893a8ba7c0f/manager.min.js"
                }
              }
            }
          }
        },
        {
          "output_type": "stream",
          "name": "stdout",
          "text": [
            "Please upload/define an AOI first.\n"
          ]
        }
      ]
    },
    {
      "cell_type": "markdown",
      "source": [
        "So i think after i do this, i should try learn how to use GeoAI to detect trees so we can cut those out easily. Then i can downlaod a pile of ndvi imagery for a ranch, cut out the trees and plot the ndvi time series in fairly high temporal resolution\n",
        "Realistically i should try continue this notebook on as much as possible - split out fields, plot ndvi values over time for each one maybe using seaborn or plotly etc\n"
      ],
      "metadata": {
        "id": "DqSz0e3PUoWn"
      }
    }
  ]
}